{
 "cells": [
  {
   "cell_type": "code",
   "execution_count": 55,
   "id": "ce6b83e0-878a-4a48-a7e4-7b109dd73ce2",
   "metadata": {},
   "outputs": [],
   "source": [
    "import pandas as pd\n",
    "import warnings\n",
    "warnings.filterwarnings(\"ignore\")"
   ]
  },
  {
   "cell_type": "code",
   "execution_count": 56,
   "id": "5295d6bb-03ba-4865-b070-4022d2ad08b1",
   "metadata": {},
   "outputs": [],
   "source": [
    "df=pd.read_csv(\"USDUAH=X.csv\")"
   ]
  },
  {
   "cell_type": "code",
   "execution_count": 57,
   "id": "41d420aa-de3e-4cdd-bb05-512f5ba22edf",
   "metadata": {},
   "outputs": [
    {
     "data": {
      "text/html": [
       "<div>\n",
       "<style scoped>\n",
       "    .dataframe tbody tr th:only-of-type {\n",
       "        vertical-align: middle;\n",
       "    }\n",
       "\n",
       "    .dataframe tbody tr th {\n",
       "        vertical-align: top;\n",
       "    }\n",
       "\n",
       "    .dataframe thead th {\n",
       "        text-align: right;\n",
       "    }\n",
       "</style>\n",
       "<table border=\"1\" class=\"dataframe\">\n",
       "  <thead>\n",
       "    <tr style=\"text-align: right;\">\n",
       "      <th></th>\n",
       "      <th>Date</th>\n",
       "      <th>Open</th>\n",
       "      <th>High</th>\n",
       "      <th>Low</th>\n",
       "      <th>Close</th>\n",
       "      <th>Adj_Close</th>\n",
       "      <th>Volume</th>\n",
       "    </tr>\n",
       "  </thead>\n",
       "  <tbody>\n",
       "    <tr>\n",
       "      <th>0</th>\n",
       "      <td>01-01-2004</td>\n",
       "      <td>5.1899</td>\n",
       "      <td>5.3805</td>\n",
       "      <td>5.1823</td>\n",
       "      <td>5.1861</td>\n",
       "      <td>5.1861</td>\n",
       "      <td>0</td>\n",
       "    </tr>\n",
       "    <tr>\n",
       "      <th>1</th>\n",
       "      <td>01-02-2004</td>\n",
       "      <td>5.1851</td>\n",
       "      <td>5.3281</td>\n",
       "      <td>5.1851</td>\n",
       "      <td>5.1892</td>\n",
       "      <td>5.1892</td>\n",
       "      <td>0</td>\n",
       "    </tr>\n",
       "    <tr>\n",
       "      <th>2</th>\n",
       "      <td>01-03-2004</td>\n",
       "      <td>5.1897</td>\n",
       "      <td>5.2034</td>\n",
       "      <td>5.1774</td>\n",
       "      <td>5.1851</td>\n",
       "      <td>5.1851</td>\n",
       "      <td>0</td>\n",
       "    </tr>\n",
       "    <tr>\n",
       "      <th>3</th>\n",
       "      <td>01-04-2004</td>\n",
       "      <td>5.1896</td>\n",
       "      <td>5.3002</td>\n",
       "      <td>5.1727</td>\n",
       "      <td>5.1634</td>\n",
       "      <td>5.1634</td>\n",
       "      <td>0</td>\n",
       "    </tr>\n",
       "    <tr>\n",
       "      <th>4</th>\n",
       "      <td>01-05-2004</td>\n",
       "      <td>5.1756</td>\n",
       "      <td>5.1897</td>\n",
       "      <td>5.1714</td>\n",
       "      <td>5.1765</td>\n",
       "      <td>5.1765</td>\n",
       "      <td>0</td>\n",
       "    </tr>\n",
       "  </tbody>\n",
       "</table>\n",
       "</div>"
      ],
      "text/plain": [
       "         Date    Open    High     Low   Close  Adj_Close  Volume\n",
       "0  01-01-2004  5.1899  5.3805  5.1823  5.1861     5.1861       0\n",
       "1  01-02-2004  5.1851  5.3281  5.1851  5.1892     5.1892       0\n",
       "2  01-03-2004  5.1897  5.2034  5.1774  5.1851     5.1851       0\n",
       "3  01-04-2004  5.1896  5.3002  5.1727  5.1634     5.1634       0\n",
       "4  01-05-2004  5.1756  5.1897  5.1714  5.1765     5.1765       0"
      ]
     },
     "execution_count": 57,
     "metadata": {},
     "output_type": "execute_result"
    }
   ],
   "source": [
    "df.head()"
   ]
  },
  {
   "cell_type": "code",
   "execution_count": 58,
   "id": "52ad5a56-23a1-4130-a672-165f1b2a2a00",
   "metadata": {},
   "outputs": [
    {
     "data": {
      "text/html": [
       "<div>\n",
       "<style scoped>\n",
       "    .dataframe tbody tr th:only-of-type {\n",
       "        vertical-align: middle;\n",
       "    }\n",
       "\n",
       "    .dataframe tbody tr th {\n",
       "        vertical-align: top;\n",
       "    }\n",
       "\n",
       "    .dataframe thead th {\n",
       "        text-align: right;\n",
       "    }\n",
       "</style>\n",
       "<table border=\"1\" class=\"dataframe\">\n",
       "  <thead>\n",
       "    <tr style=\"text-align: right;\">\n",
       "      <th></th>\n",
       "      <th>Date</th>\n",
       "      <th>Open</th>\n",
       "      <th>High</th>\n",
       "      <th>Low</th>\n",
       "      <th>Close</th>\n",
       "      <th>Adj_Close</th>\n",
       "      <th>Volume</th>\n",
       "    </tr>\n",
       "  </thead>\n",
       "  <tbody>\n",
       "    <tr>\n",
       "      <th>219</th>\n",
       "      <td>01-04-2022</td>\n",
       "      <td>29.322329</td>\n",
       "      <td>30.169123</td>\n",
       "      <td>28.966681</td>\n",
       "      <td>29.940037</td>\n",
       "      <td>29.940037</td>\n",
       "      <td>0</td>\n",
       "    </tr>\n",
       "    <tr>\n",
       "      <th>220</th>\n",
       "      <td>01-05-2022</td>\n",
       "      <td>29.914839</td>\n",
       "      <td>30.164694</td>\n",
       "      <td>28.884439</td>\n",
       "      <td>29.253878</td>\n",
       "      <td>29.253878</td>\n",
       "      <td>0</td>\n",
       "    </tr>\n",
       "    <tr>\n",
       "      <th>221</th>\n",
       "      <td>01-06-2022</td>\n",
       "      <td>29.175615</td>\n",
       "      <td>29.563314</td>\n",
       "      <td>28.882143</td>\n",
       "      <td>29.221329</td>\n",
       "      <td>29.221329</td>\n",
       "      <td>0</td>\n",
       "    </tr>\n",
       "    <tr>\n",
       "      <th>222</th>\n",
       "      <td>01-07-2022</td>\n",
       "      <td>29.036173</td>\n",
       "      <td>29.459877</td>\n",
       "      <td>29.036173</td>\n",
       "      <td>29.226076</td>\n",
       "      <td>29.226076</td>\n",
       "      <td>0</td>\n",
       "    </tr>\n",
       "    <tr>\n",
       "      <th>223</th>\n",
       "      <td>18-07-2022</td>\n",
       "      <td>29.540199</td>\n",
       "      <td>29.540199</td>\n",
       "      <td>29.540199</td>\n",
       "      <td>29.540199</td>\n",
       "      <td>29.540199</td>\n",
       "      <td>0</td>\n",
       "    </tr>\n",
       "  </tbody>\n",
       "</table>\n",
       "</div>"
      ],
      "text/plain": [
       "           Date       Open       High        Low      Close  Adj_Close  Volume\n",
       "219  01-04-2022  29.322329  30.169123  28.966681  29.940037  29.940037       0\n",
       "220  01-05-2022  29.914839  30.164694  28.884439  29.253878  29.253878       0\n",
       "221  01-06-2022  29.175615  29.563314  28.882143  29.221329  29.221329       0\n",
       "222  01-07-2022  29.036173  29.459877  29.036173  29.226076  29.226076       0\n",
       "223  18-07-2022  29.540199  29.540199  29.540199  29.540199  29.540199       0"
      ]
     },
     "execution_count": 58,
     "metadata": {},
     "output_type": "execute_result"
    }
   ],
   "source": [
    "df.tail()"
   ]
  },
  {
   "cell_type": "code",
   "execution_count": 59,
   "id": "e7be8f9f-3e2f-4eb4-9ac6-9b87e8c15310",
   "metadata": {},
   "outputs": [
    {
     "data": {
      "text/html": [
       "<div>\n",
       "<style scoped>\n",
       "    .dataframe tbody tr th:only-of-type {\n",
       "        vertical-align: middle;\n",
       "    }\n",
       "\n",
       "    .dataframe tbody tr th {\n",
       "        vertical-align: top;\n",
       "    }\n",
       "\n",
       "    .dataframe thead th {\n",
       "        text-align: right;\n",
       "    }\n",
       "</style>\n",
       "<table border=\"1\" class=\"dataframe\">\n",
       "  <thead>\n",
       "    <tr style=\"text-align: right;\">\n",
       "      <th></th>\n",
       "      <th>Open</th>\n",
       "      <th>High</th>\n",
       "      <th>Low</th>\n",
       "      <th>Close</th>\n",
       "      <th>Adj_Close</th>\n",
       "      <th>Volume</th>\n",
       "    </tr>\n",
       "  </thead>\n",
       "  <tbody>\n",
       "    <tr>\n",
       "      <th>count</th>\n",
       "      <td>224.000000</td>\n",
       "      <td>224.000000</td>\n",
       "      <td>224.000000</td>\n",
       "      <td>224.000000</td>\n",
       "      <td>224.000000</td>\n",
       "      <td>224.0</td>\n",
       "    </tr>\n",
       "    <tr>\n",
       "      <th>mean</th>\n",
       "      <td>14.724109</td>\n",
       "      <td>15.170152</td>\n",
       "      <td>14.427453</td>\n",
       "      <td>14.865789</td>\n",
       "      <td>14.865789</td>\n",
       "      <td>0.0</td>\n",
       "    </tr>\n",
       "    <tr>\n",
       "      <th>std</th>\n",
       "      <td>9.629706</td>\n",
       "      <td>9.880683</td>\n",
       "      <td>9.410650</td>\n",
       "      <td>9.705628</td>\n",
       "      <td>9.705628</td>\n",
       "      <td>0.0</td>\n",
       "    </tr>\n",
       "    <tr>\n",
       "      <th>min</th>\n",
       "      <td>4.537500</td>\n",
       "      <td>4.625000</td>\n",
       "      <td>4.447500</td>\n",
       "      <td>4.482900</td>\n",
       "      <td>4.482900</td>\n",
       "      <td>0.0</td>\n",
       "    </tr>\n",
       "    <tr>\n",
       "      <th>25%</th>\n",
       "      <td>5.212700</td>\n",
       "      <td>5.367875</td>\n",
       "      <td>5.181075</td>\n",
       "      <td>5.257900</td>\n",
       "      <td>5.257900</td>\n",
       "      <td>0.0</td>\n",
       "    </tr>\n",
       "    <tr>\n",
       "      <th>50%</th>\n",
       "      <td>8.075650</td>\n",
       "      <td>8.207550</td>\n",
       "      <td>8.002500</td>\n",
       "      <td>8.085100</td>\n",
       "      <td>8.085100</td>\n",
       "      <td>0.0</td>\n",
       "    </tr>\n",
       "    <tr>\n",
       "      <th>75%</th>\n",
       "      <td>26.008501</td>\n",
       "      <td>26.604000</td>\n",
       "      <td>25.475750</td>\n",
       "      <td>26.022250</td>\n",
       "      <td>26.022250</td>\n",
       "      <td>0.0</td>\n",
       "    </tr>\n",
       "    <tr>\n",
       "      <th>max</th>\n",
       "      <td>29.914839</td>\n",
       "      <td>33.901001</td>\n",
       "      <td>29.540199</td>\n",
       "      <td>33.499001</td>\n",
       "      <td>33.499001</td>\n",
       "      <td>0.0</td>\n",
       "    </tr>\n",
       "  </tbody>\n",
       "</table>\n",
       "</div>"
      ],
      "text/plain": [
       "             Open        High         Low       Close   Adj_Close  Volume\n",
       "count  224.000000  224.000000  224.000000  224.000000  224.000000   224.0\n",
       "mean    14.724109   15.170152   14.427453   14.865789   14.865789     0.0\n",
       "std      9.629706    9.880683    9.410650    9.705628    9.705628     0.0\n",
       "min      4.537500    4.625000    4.447500    4.482900    4.482900     0.0\n",
       "25%      5.212700    5.367875    5.181075    5.257900    5.257900     0.0\n",
       "50%      8.075650    8.207550    8.002500    8.085100    8.085100     0.0\n",
       "75%     26.008501   26.604000   25.475750   26.022250   26.022250     0.0\n",
       "max     29.914839   33.901001   29.540199   33.499001   33.499001     0.0"
      ]
     },
     "execution_count": 59,
     "metadata": {},
     "output_type": "execute_result"
    }
   ],
   "source": [
    "df.describe()"
   ]
  },
  {
   "cell_type": "code",
   "execution_count": 60,
   "id": "22f7ce16-4a9c-46ba-9c6d-dd2bb6ecefca",
   "metadata": {},
   "outputs": [
    {
     "data": {
      "text/plain": [
       "Date         0\n",
       "Open         0\n",
       "High         0\n",
       "Low          0\n",
       "Close        0\n",
       "Adj_Close    0\n",
       "Volume       0\n",
       "dtype: int64"
      ]
     },
     "execution_count": 60,
     "metadata": {},
     "output_type": "execute_result"
    }
   ],
   "source": [
    "df.isna().sum()"
   ]
  },
  {
   "cell_type": "code",
   "execution_count": 61,
   "id": "2ca818b0-a5d8-4365-b144-216bf79d3620",
   "metadata": {},
   "outputs": [],
   "source": [
    "df.Date=pd.to_datetime(df.Date, dayfirst=True)"
   ]
  },
  {
   "cell_type": "code",
   "execution_count": 62,
   "id": "cef94ad3-6d4d-4672-93e2-fbf602995f77",
   "metadata": {},
   "outputs": [
    {
     "data": {
      "text/html": [
       "<div>\n",
       "<style scoped>\n",
       "    .dataframe tbody tr th:only-of-type {\n",
       "        vertical-align: middle;\n",
       "    }\n",
       "\n",
       "    .dataframe tbody tr th {\n",
       "        vertical-align: top;\n",
       "    }\n",
       "\n",
       "    .dataframe thead th {\n",
       "        text-align: right;\n",
       "    }\n",
       "</style>\n",
       "<table border=\"1\" class=\"dataframe\">\n",
       "  <thead>\n",
       "    <tr style=\"text-align: right;\">\n",
       "      <th></th>\n",
       "      <th>Date</th>\n",
       "      <th>Open</th>\n",
       "      <th>High</th>\n",
       "      <th>Low</th>\n",
       "      <th>Close</th>\n",
       "      <th>Adj_Close</th>\n",
       "      <th>Volume</th>\n",
       "    </tr>\n",
       "  </thead>\n",
       "  <tbody>\n",
       "    <tr>\n",
       "      <th>0</th>\n",
       "      <td>2004-01-01</td>\n",
       "      <td>5.1899</td>\n",
       "      <td>5.3805</td>\n",
       "      <td>5.1823</td>\n",
       "      <td>5.1861</td>\n",
       "      <td>5.1861</td>\n",
       "      <td>0</td>\n",
       "    </tr>\n",
       "    <tr>\n",
       "      <th>1</th>\n",
       "      <td>2004-02-01</td>\n",
       "      <td>5.1851</td>\n",
       "      <td>5.3281</td>\n",
       "      <td>5.1851</td>\n",
       "      <td>5.1892</td>\n",
       "      <td>5.1892</td>\n",
       "      <td>0</td>\n",
       "    </tr>\n",
       "    <tr>\n",
       "      <th>2</th>\n",
       "      <td>2004-03-01</td>\n",
       "      <td>5.1897</td>\n",
       "      <td>5.2034</td>\n",
       "      <td>5.1774</td>\n",
       "      <td>5.1851</td>\n",
       "      <td>5.1851</td>\n",
       "      <td>0</td>\n",
       "    </tr>\n",
       "    <tr>\n",
       "      <th>3</th>\n",
       "      <td>2004-04-01</td>\n",
       "      <td>5.1896</td>\n",
       "      <td>5.3002</td>\n",
       "      <td>5.1727</td>\n",
       "      <td>5.1634</td>\n",
       "      <td>5.1634</td>\n",
       "      <td>0</td>\n",
       "    </tr>\n",
       "    <tr>\n",
       "      <th>4</th>\n",
       "      <td>2004-05-01</td>\n",
       "      <td>5.1756</td>\n",
       "      <td>5.1897</td>\n",
       "      <td>5.1714</td>\n",
       "      <td>5.1765</td>\n",
       "      <td>5.1765</td>\n",
       "      <td>0</td>\n",
       "    </tr>\n",
       "  </tbody>\n",
       "</table>\n",
       "</div>"
      ],
      "text/plain": [
       "        Date    Open    High     Low   Close  Adj_Close  Volume\n",
       "0 2004-01-01  5.1899  5.3805  5.1823  5.1861     5.1861       0\n",
       "1 2004-02-01  5.1851  5.3281  5.1851  5.1892     5.1892       0\n",
       "2 2004-03-01  5.1897  5.2034  5.1774  5.1851     5.1851       0\n",
       "3 2004-04-01  5.1896  5.3002  5.1727  5.1634     5.1634       0\n",
       "4 2004-05-01  5.1756  5.1897  5.1714  5.1765     5.1765       0"
      ]
     },
     "execution_count": 62,
     "metadata": {},
     "output_type": "execute_result"
    }
   ],
   "source": [
    "df.head()"
   ]
  },
  {
   "cell_type": "code",
   "execution_count": 63,
   "id": "70668154-f592-48d7-b5d2-abec05a0d620",
   "metadata": {},
   "outputs": [
    {
     "data": {
      "text/html": [
       "<div>\n",
       "<style scoped>\n",
       "    .dataframe tbody tr th:only-of-type {\n",
       "        vertical-align: middle;\n",
       "    }\n",
       "\n",
       "    .dataframe tbody tr th {\n",
       "        vertical-align: top;\n",
       "    }\n",
       "\n",
       "    .dataframe thead th {\n",
       "        text-align: right;\n",
       "    }\n",
       "</style>\n",
       "<table border=\"1\" class=\"dataframe\">\n",
       "  <thead>\n",
       "    <tr style=\"text-align: right;\">\n",
       "      <th></th>\n",
       "      <th>Open</th>\n",
       "      <th>High</th>\n",
       "      <th>Low</th>\n",
       "      <th>Close</th>\n",
       "      <th>Adj_Close</th>\n",
       "      <th>Volume</th>\n",
       "    </tr>\n",
       "  </thead>\n",
       "  <tbody>\n",
       "    <tr>\n",
       "      <th>count</th>\n",
       "      <td>224.000000</td>\n",
       "      <td>224.000000</td>\n",
       "      <td>224.000000</td>\n",
       "      <td>224.000000</td>\n",
       "      <td>224.000000</td>\n",
       "      <td>224.0</td>\n",
       "    </tr>\n",
       "    <tr>\n",
       "      <th>mean</th>\n",
       "      <td>14.724109</td>\n",
       "      <td>15.170152</td>\n",
       "      <td>14.427453</td>\n",
       "      <td>14.865789</td>\n",
       "      <td>14.865789</td>\n",
       "      <td>0.0</td>\n",
       "    </tr>\n",
       "    <tr>\n",
       "      <th>std</th>\n",
       "      <td>9.629706</td>\n",
       "      <td>9.880683</td>\n",
       "      <td>9.410650</td>\n",
       "      <td>9.705628</td>\n",
       "      <td>9.705628</td>\n",
       "      <td>0.0</td>\n",
       "    </tr>\n",
       "    <tr>\n",
       "      <th>min</th>\n",
       "      <td>4.537500</td>\n",
       "      <td>4.625000</td>\n",
       "      <td>4.447500</td>\n",
       "      <td>4.482900</td>\n",
       "      <td>4.482900</td>\n",
       "      <td>0.0</td>\n",
       "    </tr>\n",
       "    <tr>\n",
       "      <th>25%</th>\n",
       "      <td>5.212700</td>\n",
       "      <td>5.367875</td>\n",
       "      <td>5.181075</td>\n",
       "      <td>5.257900</td>\n",
       "      <td>5.257900</td>\n",
       "      <td>0.0</td>\n",
       "    </tr>\n",
       "    <tr>\n",
       "      <th>50%</th>\n",
       "      <td>8.075650</td>\n",
       "      <td>8.207550</td>\n",
       "      <td>8.002500</td>\n",
       "      <td>8.085100</td>\n",
       "      <td>8.085100</td>\n",
       "      <td>0.0</td>\n",
       "    </tr>\n",
       "    <tr>\n",
       "      <th>75%</th>\n",
       "      <td>26.008501</td>\n",
       "      <td>26.604000</td>\n",
       "      <td>25.475750</td>\n",
       "      <td>26.022250</td>\n",
       "      <td>26.022250</td>\n",
       "      <td>0.0</td>\n",
       "    </tr>\n",
       "    <tr>\n",
       "      <th>max</th>\n",
       "      <td>29.914839</td>\n",
       "      <td>33.901001</td>\n",
       "      <td>29.540199</td>\n",
       "      <td>33.499001</td>\n",
       "      <td>33.499001</td>\n",
       "      <td>0.0</td>\n",
       "    </tr>\n",
       "  </tbody>\n",
       "</table>\n",
       "</div>"
      ],
      "text/plain": [
       "             Open        High         Low       Close   Adj_Close  Volume\n",
       "count  224.000000  224.000000  224.000000  224.000000  224.000000   224.0\n",
       "mean    14.724109   15.170152   14.427453   14.865789   14.865789     0.0\n",
       "std      9.629706    9.880683    9.410650    9.705628    9.705628     0.0\n",
       "min      4.537500    4.625000    4.447500    4.482900    4.482900     0.0\n",
       "25%      5.212700    5.367875    5.181075    5.257900    5.257900     0.0\n",
       "50%      8.075650    8.207550    8.002500    8.085100    8.085100     0.0\n",
       "75%     26.008501   26.604000   25.475750   26.022250   26.022250     0.0\n",
       "max     29.914839   33.901001   29.540199   33.499001   33.499001     0.0"
      ]
     },
     "execution_count": 63,
     "metadata": {},
     "output_type": "execute_result"
    }
   ],
   "source": [
    "df.describe()"
   ]
  },
  {
   "cell_type": "code",
   "execution_count": 64,
   "id": "72286edf-8333-46a8-9d3e-8965c2ef8f4d",
   "metadata": {},
   "outputs": [
    {
     "data": {
      "text/plain": [
       "count                     224\n",
       "unique                    224\n",
       "top       2004-01-01 00:00:00\n",
       "freq                        1\n",
       "first     2004-01-01 00:00:00\n",
       "last      2022-07-18 00:00:00\n",
       "Name: Date, dtype: object"
      ]
     },
     "execution_count": 64,
     "metadata": {},
     "output_type": "execute_result"
    }
   ],
   "source": [
    "df.Date.describe()"
   ]
  },
  {
   "cell_type": "code",
   "execution_count": 65,
   "id": "bd1cf5fa-5e3a-4366-b039-65f7c701b052",
   "metadata": {},
   "outputs": [],
   "source": [
    "df.set_index(\"Date\",inplace = True)"
   ]
  },
  {
   "cell_type": "code",
   "execution_count": 66,
   "id": "6a20df2e-18c2-4904-8b81-e01f16238476",
   "metadata": {},
   "outputs": [
    {
     "data": {
      "text/html": [
       "<div>\n",
       "<style scoped>\n",
       "    .dataframe tbody tr th:only-of-type {\n",
       "        vertical-align: middle;\n",
       "    }\n",
       "\n",
       "    .dataframe tbody tr th {\n",
       "        vertical-align: top;\n",
       "    }\n",
       "\n",
       "    .dataframe thead th {\n",
       "        text-align: right;\n",
       "    }\n",
       "</style>\n",
       "<table border=\"1\" class=\"dataframe\">\n",
       "  <thead>\n",
       "    <tr style=\"text-align: right;\">\n",
       "      <th></th>\n",
       "      <th>Open</th>\n",
       "      <th>High</th>\n",
       "      <th>Low</th>\n",
       "      <th>Close</th>\n",
       "      <th>Adj_Close</th>\n",
       "      <th>Volume</th>\n",
       "    </tr>\n",
       "    <tr>\n",
       "      <th>Date</th>\n",
       "      <th></th>\n",
       "      <th></th>\n",
       "      <th></th>\n",
       "      <th></th>\n",
       "      <th></th>\n",
       "      <th></th>\n",
       "    </tr>\n",
       "  </thead>\n",
       "  <tbody>\n",
       "    <tr>\n",
       "      <th>2004-01-01</th>\n",
       "      <td>5.1899</td>\n",
       "      <td>5.3805</td>\n",
       "      <td>5.1823</td>\n",
       "      <td>5.1861</td>\n",
       "      <td>5.1861</td>\n",
       "      <td>0</td>\n",
       "    </tr>\n",
       "    <tr>\n",
       "      <th>2004-02-01</th>\n",
       "      <td>5.1851</td>\n",
       "      <td>5.3281</td>\n",
       "      <td>5.1851</td>\n",
       "      <td>5.1892</td>\n",
       "      <td>5.1892</td>\n",
       "      <td>0</td>\n",
       "    </tr>\n",
       "    <tr>\n",
       "      <th>2004-03-01</th>\n",
       "      <td>5.1897</td>\n",
       "      <td>5.2034</td>\n",
       "      <td>5.1774</td>\n",
       "      <td>5.1851</td>\n",
       "      <td>5.1851</td>\n",
       "      <td>0</td>\n",
       "    </tr>\n",
       "    <tr>\n",
       "      <th>2004-04-01</th>\n",
       "      <td>5.1896</td>\n",
       "      <td>5.3002</td>\n",
       "      <td>5.1727</td>\n",
       "      <td>5.1634</td>\n",
       "      <td>5.1634</td>\n",
       "      <td>0</td>\n",
       "    </tr>\n",
       "    <tr>\n",
       "      <th>2004-05-01</th>\n",
       "      <td>5.1756</td>\n",
       "      <td>5.1897</td>\n",
       "      <td>5.1714</td>\n",
       "      <td>5.1765</td>\n",
       "      <td>5.1765</td>\n",
       "      <td>0</td>\n",
       "    </tr>\n",
       "  </tbody>\n",
       "</table>\n",
       "</div>"
      ],
      "text/plain": [
       "              Open    High     Low   Close  Adj_Close  Volume\n",
       "Date                                                         \n",
       "2004-01-01  5.1899  5.3805  5.1823  5.1861     5.1861       0\n",
       "2004-02-01  5.1851  5.3281  5.1851  5.1892     5.1892       0\n",
       "2004-03-01  5.1897  5.2034  5.1774  5.1851     5.1851       0\n",
       "2004-04-01  5.1896  5.3002  5.1727  5.1634     5.1634       0\n",
       "2004-05-01  5.1756  5.1897  5.1714  5.1765     5.1765       0"
      ]
     },
     "execution_count": 66,
     "metadata": {},
     "output_type": "execute_result"
    }
   ],
   "source": [
    "df.head()"
   ]
  },
  {
   "cell_type": "code",
   "execution_count": 67,
   "id": "05bc536f-4913-4aac-83b8-199eb97dca45",
   "metadata": {},
   "outputs": [
    {
     "data": {
      "text/plain": [
       "<AxesSubplot:xlabel='Date'>"
      ]
     },
     "execution_count": 67,
     "metadata": {},
     "output_type": "execute_result"
    },
    {
     "data": {
      "image/png": "[encoded data removed]",
      "text/plain": [
       "<Figure size 1440x360 with 1 Axes>"
      ]
     },
     "metadata": {
      "needs_background": "light"
     },
     "output_type": "display_data"
    }
   ],
   "source": [
    "df.Adj_Close.plot(figsize=(20,5))"
   ]
  },
  {
   "cell_type": "code",
   "execution_count": 68,
   "id": "6fe38e35-c4a9-402d-8318-5f06d520a88e",
   "metadata": {},
   "outputs": [],
   "source": [
    "del df['Open'],df['High'],df['Low'],df['Close'],df['Volume']"
   ]
  },
  {
   "cell_type": "code",
   "execution_count": 69,
   "id": "196a8d31-f53b-49bf-9677-14abedc2c624",
   "metadata": {},
   "outputs": [
    {
     "data": {
      "text/html": [
       "<div>\n",
       "<style scoped>\n",
       "    .dataframe tbody tr th:only-of-type {\n",
       "        vertical-align: middle;\n",
       "    }\n",
       "\n",
       "    .dataframe tbody tr th {\n",
       "        vertical-align: top;\n",
       "    }\n",
       "\n",
       "    .dataframe thead th {\n",
       "        text-align: right;\n",
       "    }\n",
       "</style>\n",
       "<table border=\"1\" class=\"dataframe\">\n",
       "  <thead>\n",
       "    <tr style=\"text-align: right;\">\n",
       "      <th></th>\n",
       "      <th>Adj_Close</th>\n",
       "    </tr>\n",
       "    <tr>\n",
       "      <th>Date</th>\n",
       "      <th></th>\n",
       "    </tr>\n",
       "  </thead>\n",
       "  <tbody>\n",
       "    <tr>\n",
       "      <th>2004-01-01</th>\n",
       "      <td>5.1861</td>\n",
       "    </tr>\n",
       "    <tr>\n",
       "      <th>2004-02-01</th>\n",
       "      <td>5.1892</td>\n",
       "    </tr>\n",
       "    <tr>\n",
       "      <th>2004-03-01</th>\n",
       "      <td>5.1851</td>\n",
       "    </tr>\n",
       "    <tr>\n",
       "      <th>2004-04-01</th>\n",
       "      <td>5.1634</td>\n",
       "    </tr>\n",
       "    <tr>\n",
       "      <th>2004-05-01</th>\n",
       "      <td>5.1765</td>\n",
       "    </tr>\n",
       "  </tbody>\n",
       "</table>\n",
       "</div>"
      ],
      "text/plain": [
       "            Adj_Close\n",
       "Date                 \n",
       "2004-01-01     5.1861\n",
       "2004-02-01     5.1892\n",
       "2004-03-01     5.1851\n",
       "2004-04-01     5.1634\n",
       "2004-05-01     5.1765"
      ]
     },
     "execution_count": 69,
     "metadata": {},
     "output_type": "execute_result"
    }
   ],
   "source": [
    "df.head()"
   ]
  },
  {
   "cell_type": "code",
   "execution_count": 70,
   "id": "7633dc2a-b0f8-41c7-9d86-f3a36f8fd8ab",
   "metadata": {},
   "outputs": [],
   "source": [
    "size = int(len(df)*0.8)"
   ]
  },
  {
   "cell_type": "code",
   "execution_count": 71,
   "id": "e138bcd5-932f-462e-bd88-28caf9e20973",
   "metadata": {},
   "outputs": [],
   "source": [
    "df_train = df.iloc[:size]\n",
    "df_test = df.iloc[size:]"
   ]
  },
  {
   "cell_type": "markdown",
   "id": "93a167af-4bf2-4bfd-a972-f16a3316c01e",
   "metadata": {},
   "source": [
    "### Checking Stationarity"
   ]
  },
  {
   "cell_type": "code",
   "execution_count": 72,
   "id": "1c950ff9-272e-4838-9153-45c8644a9f82",
   "metadata": {},
   "outputs": [],
   "source": [
    "import statsmodels.tsa.stattools as sts"
   ]
  },
  {
   "cell_type": "code",
   "execution_count": 73,
   "id": "4cf9c011-6776-4fa7-bf9b-7e811e90e8a1",
   "metadata": {},
   "outputs": [
    {
     "data": {
      "text/plain": [
       "(0.22524962793395217,\n",
       " 0.9736427380386022,\n",
       " 2,\n",
       " 176,\n",
       " {'1%': -3.4680615871598537,\n",
       "  '5%': -2.8781061899535128,\n",
       "  '10%': -2.5756015922004134},\n",
       " 616.817681496378)"
      ]
     },
     "execution_count": 73,
     "metadata": {},
     "output_type": "execute_result"
    }
   ],
   "source": [
    "sts.adfuller(df_train.Adj_Close)"
   ]
  },
  {
   "cell_type": "code",
   "execution_count": 74,
   "id": "efdc1716-7c72-4dd4-854a-c9feed065959",
   "metadata": {},
   "outputs": [],
   "source": [
    "#2- autocorrelation at lag of 2\n",
    "# data is non stationary"
   ]
  },
  {
   "cell_type": "markdown",
   "id": "4add5b91-c924-4340-b08f-1c005b76ecb7",
   "metadata": {},
   "source": [
    "### White Noise"
   ]
  },
  {
   "cell_type": "code",
   "execution_count": 75,
   "id": "f02b89a4-93c5-4de5-9cff-fef603f428b5",
   "metadata": {},
   "outputs": [],
   "source": [
    "import numpy as np\n",
    "wn = np.random.normal(loc = df_train.Adj_Close.mean(),scale = df_train.std(), size = len(df_train))"
   ]
  },
  {
   "cell_type": "code",
   "execution_count": 76,
   "id": "dfa0a814-2ad1-4ad1-bfd0-e591d95d6871",
   "metadata": {},
   "outputs": [],
   "source": [
    "df_train['wn'] = wn"
   ]
  },
  {
   "cell_type": "code",
   "execution_count": 77,
   "id": "09d1f026-9b2e-4349-abdb-96f4d5cfd8ac",
   "metadata": {},
   "outputs": [
    {
     "data": {
      "text/html": [
       "<div>\n",
       "<style scoped>\n",
       "    .dataframe tbody tr th:only-of-type {\n",
       "        vertical-align: middle;\n",
       "    }\n",
       "\n",
       "    .dataframe tbody tr th {\n",
       "        vertical-align: top;\n",
       "    }\n",
       "\n",
       "    .dataframe thead th {\n",
       "        text-align: right;\n",
       "    }\n",
       "</style>\n",
       "<table border=\"1\" class=\"dataframe\">\n",
       "  <thead>\n",
       "    <tr style=\"text-align: right;\">\n",
       "      <th></th>\n",
       "      <th>Adj_Close</th>\n",
       "      <th>wn</th>\n",
       "    </tr>\n",
       "    <tr>\n",
       "      <th>Date</th>\n",
       "      <th></th>\n",
       "      <th></th>\n",
       "    </tr>\n",
       "  </thead>\n",
       "  <tbody>\n",
       "    <tr>\n",
       "      <th>2004-01-01</th>\n",
       "      <td>5.1861</td>\n",
       "      <td>13.254586</td>\n",
       "    </tr>\n",
       "    <tr>\n",
       "      <th>2004-02-01</th>\n",
       "      <td>5.1892</td>\n",
       "      <td>15.223815</td>\n",
       "    </tr>\n",
       "    <tr>\n",
       "      <th>2004-03-01</th>\n",
       "      <td>5.1851</td>\n",
       "      <td>7.681252</td>\n",
       "    </tr>\n",
       "    <tr>\n",
       "      <th>2004-04-01</th>\n",
       "      <td>5.1634</td>\n",
       "      <td>8.599160</td>\n",
       "    </tr>\n",
       "    <tr>\n",
       "      <th>2004-05-01</th>\n",
       "      <td>5.1765</td>\n",
       "      <td>-8.702735</td>\n",
       "    </tr>\n",
       "  </tbody>\n",
       "</table>\n",
       "</div>"
      ],
      "text/plain": [
       "            Adj_Close         wn\n",
       "Date                            \n",
       "2004-01-01     5.1861  13.254586\n",
       "2004-02-01     5.1892  15.223815\n",
       "2004-03-01     5.1851   7.681252\n",
       "2004-04-01     5.1634   8.599160\n",
       "2004-05-01     5.1765  -8.702735"
      ]
     },
     "execution_count": 77,
     "metadata": {},
     "output_type": "execute_result"
    }
   ],
   "source": [
    "df_train.head()"
   ]
  },
  {
   "cell_type": "code",
   "execution_count": 78,
   "id": "442ec04a-8d28-4a27-9163-3cade9974356",
   "metadata": {},
   "outputs": [
    {
     "data": {
      "text/plain": [
       "(-12.118153704183603,\n",
       " 1.8517122513016482e-22,\n",
       " 0,\n",
       " 178,\n",
       " {'1%': -3.467631519151906,\n",
       "  '5%': -2.8779183721695567,\n",
       "  '10%': -2.575501353364474},\n",
       " 1168.449600479213)"
      ]
     },
     "execution_count": 78,
     "metadata": {},
     "output_type": "execute_result"
    }
   ],
   "source": [
    "sts.adfuller(df_train.wn)"
   ]
  },
  {
   "cell_type": "markdown",
   "id": "723eeb02-e238-49c5-a057-d66579f2f716",
   "metadata": {},
   "source": [
    "### ACF - autocorrelation"
   ]
  },
  {
   "cell_type": "code",
   "execution_count": 79,
   "id": "0c9d7641-b61c-4c78-9ab7-3c96d4e118d7",
   "metadata": {},
   "outputs": [],
   "source": [
    "import statsmodels.graphics.tsaplots as sgt"
   ]
  },
  {
   "cell_type": "code",
   "execution_count": 80,
   "id": "cc5229db-d1ff-4510-afdd-020de98d386b",
   "metadata": {},
   "outputs": [
    {
     "data": {
      "image/png": "[encoded data removed]",
      "text/plain": [
       "<Figure size 432x288 with 1 Axes>"
      ]
     },
     "execution_count": 80,
     "metadata": {},
     "output_type": "execute_result"
    },
    {
     "data": {
      "image/png": "[encoded data removed]",
      "text/plain": [
       "<Figure size 432x288 with 1 Axes>"
      ]
     },
     "metadata": {
      "needs_background": "light"
     },
     "output_type": "display_data"
    }
   ],
   "source": [
    "sgt.plot_acf(df_train.Adj_Close, lags = 40,zero=False)"
   ]
  },
  {
   "cell_type": "code",
   "execution_count": 81,
   "id": "19461469-b727-4fa2-b96c-f656f8d61ad6",
   "metadata": {},
   "outputs": [
    {
     "data": {
      "image/png": "[encoded data removed]",
      "text/plain": [
       "<Figure size 432x288 with 1 Axes>"
      ]
     },
     "execution_count": 81,
     "metadata": {},
     "output_type": "execute_result"
    },
    {
     "data": {
      "image/png": "[encoded data removed]",
      "text/plain": [
       "<Figure size 432x288 with 1 Axes>"
      ]
     },
     "metadata": {
      "needs_background": "light"
     },
     "output_type": "display_data"
    }
   ],
   "source": [
    "sgt.plot_acf(df_train.wn, lags = 40,zero=False)"
   ]
  },
  {
   "cell_type": "code",
   "execution_count": 82,
   "id": "c7ac321d-fd3f-4add-a249-ff50523c67ac",
   "metadata": {},
   "outputs": [
    {
     "data": {
      "image/png": "[encoded data removed]",
      "text/plain": [
       "<Figure size 432x288 with 1 Axes>"
      ]
     },
     "execution_count": 82,
     "metadata": {},
     "output_type": "execute_result"
    },
    {
     "data": {
      "image/png": "[encoded data removed]",
      "text/plain": [
       "<Figure size 432x288 with 1 Axes>"
      ]
     },
     "metadata": {
      "needs_background": "light"
     },
     "output_type": "display_data"
    }
   ],
   "source": [
    "sgt.plot_pacf(df_train.Adj_Close, lags=40,zero = False,method =('ols'))"
   ]
  },
  {
   "cell_type": "code",
   "execution_count": 83,
   "id": "436a1706-1953-4059-981d-dca8b8821fac",
   "metadata": {},
   "outputs": [
    {
     "data": {
      "image/png": "[encoded data removed]",
      "text/plain": [
       "<Figure size 432x288 with 1 Axes>"
      ]
     },
     "execution_count": 83,
     "metadata": {},
     "output_type": "execute_result"
    },
    {
     "data": {
      "image/png": "[encoded data removed]",
      "text/plain": [
       "<Figure size 432x288 with 1 Axes>"
      ]
     },
     "metadata": {
      "needs_background": "light"
     },
     "output_type": "display_data"
    }
   ],
   "source": [
    "sgt.plot_pacf(df_train.wn, lags=40,zero = False,method =('ols'))"
   ]
  },
  {
   "cell_type": "code",
   "execution_count": 84,
   "id": "8c4fe428-24c3-4da0-a624-731d66648433",
   "metadata": {},
   "outputs": [],
   "source": [
    "# LLR test can only be applied on model with different degree of freedom\n",
    "# hence model with same number of lags is to be compare based on information criteria\n",
    "# like AIC and BIC ( lower is better)\n",
    "# prefer model with higher log-likelidhood"
   ]
  },
  {
   "cell_type": "markdown",
   "id": "ec1b90e5-b06a-4f85-9669-4562d99b987d",
   "metadata": {},
   "source": [
    "### AR (Auto regressivee Model)"
   ]
  },
  {
   "cell_type": "code",
   "execution_count": 85,
   "id": "2785c11d-697a-494d-a465-80ae08fad003",
   "metadata": {},
   "outputs": [],
   "source": [
    "# A linear model, where current period values are a sum of past outcomes\n",
    "# multiplied by a numeric factor"
   ]
  },
  {
   "cell_type": "code",
   "execution_count": 86,
   "id": "f43501ae-03f9-43c1-bae4-7966a9b6ff66",
   "metadata": {},
   "outputs": [],
   "source": [
    "from statsmodels.tsa.arima_model import ARMA"
   ]
  },
  {
   "cell_type": "code",
   "execution_count": 87,
   "id": "5ccd7f66-6450-4146-9292-9098ac9cbbb1",
   "metadata": {},
   "outputs": [
    {
     "data": {
      "text/html": [
       "<table class=\"simpletable\">\n",
       "<caption>ARMA Model Results</caption>\n",
       "<tr>\n",
       "  <th>Dep. Variable:</th>     <td>Adj_Close</td>    <th>  No. Observations:  </th>    <td>179</td>  \n",
       "</tr>\n",
       "<tr>\n",
       "  <th>Model:</th>            <td>ARMA(1, 0)</td>    <th>  Log Likelihood     </th> <td>-339.167</td>\n",
       "</tr>\n",
       "<tr>\n",
       "  <th>Method:</th>             <td>css-mle</td>     <th>  S.D. of innovations</th>   <td>1.593</td> \n",
       "</tr>\n",
       "<tr>\n",
       "  <th>Date:</th>          <td>Mon, 18 Jul 2022</td> <th>  AIC                </th>  <td>684.335</td>\n",
       "</tr>\n",
       "<tr>\n",
       "  <th>Time:</th>              <td>18:07:42</td>     <th>  BIC                </th>  <td>693.897</td>\n",
       "</tr>\n",
       "<tr>\n",
       "  <th>Sample:</th>           <td>01-01-2004</td>    <th>  HQIC               </th>  <td>688.212</td>\n",
       "</tr>\n",
       "<tr>\n",
       "  <th></th>                 <td>- 11-01-2018</td>   <th>                     </th>     <td> </td>   \n",
       "</tr>\n",
       "</table>\n",
       "<table class=\"simpletable\">\n",
       "<tr>\n",
       "         <td></td>            <th>coef</th>     <th>std err</th>      <th>z</th>      <th>P>|z|</th>  <th>[0.025</th>    <th>0.975]</th>  \n",
       "</tr>\n",
       "<tr>\n",
       "  <th>const</th>           <td>   13.9472</td> <td>    6.520</td> <td>    2.139</td> <td> 0.032</td> <td>    1.169</td> <td>   26.725</td>\n",
       "</tr>\n",
       "<tr>\n",
       "  <th>ar.L1.Adj_Close</th> <td>    0.9862</td> <td>    0.011</td> <td>   86.026</td> <td> 0.000</td> <td>    0.964</td> <td>    1.009</td>\n",
       "</tr>\n",
       "</table>\n",
       "<table class=\"simpletable\">\n",
       "<caption>Roots</caption>\n",
       "<tr>\n",
       "    <td></td>   <th>            Real</th>  <th>         Imaginary</th> <th>         Modulus</th>  <th>        Frequency</th>\n",
       "</tr>\n",
       "<tr>\n",
       "  <th>AR.1</th> <td>           1.0140</td> <td>          +0.0000j</td> <td>           1.0140</td> <td>           0.0000</td>\n",
       "</tr>\n",
       "</table>"
      ],
      "text/plain": [
       "<class 'statsmodels.iolib.summary.Summary'>\n",
       "\"\"\"\n",
       "                              ARMA Model Results                              \n",
       "==============================================================================\n",
       "Dep. Variable:              Adj_Close   No. Observations:                  179\n",
       "Model:                     ARMA(1, 0)   Log Likelihood                -339.167\n",
       "Method:                       css-mle   S.D. of innovations              1.593\n",
       "Date:                Mon, 18 Jul 2022   AIC                            684.335\n",
       "Time:                        18:07:42   BIC                            693.897\n",
       "Sample:                    01-01-2004   HQIC                           688.212\n",
       "                         - 11-01-2018                                         \n",
       "===================================================================================\n",
       "                      coef    std err          z      P>|z|      [0.025      0.975]\n",
       "-----------------------------------------------------------------------------------\n",
       "const              13.9472      6.520      2.139      0.032       1.169      26.725\n",
       "ar.L1.Adj_Close     0.9862      0.011     86.026      0.000       0.964       1.009\n",
       "                                    Roots                                    \n",
       "=============================================================================\n",
       "                  Real          Imaginary           Modulus         Frequency\n",
       "-----------------------------------------------------------------------------\n",
       "AR.1            1.0140           +0.0000j            1.0140            0.0000\n",
       "-----------------------------------------------------------------------------\n",
       "\"\"\""
      ]
     },
     "execution_count": 87,
     "metadata": {},
     "output_type": "execute_result"
    }
   ],
   "source": [
    "model_ar1 = ARMA(df_train.Adj_Close, order=(1,0))\n",
    "results_ar1 = model_ar1.fit()\n",
    "results_ar1.summary()"
   ]
  },
  {
   "cell_type": "code",
   "execution_count": 88,
   "id": "18d6809d-bd3b-492c-a5d8-84f4a2980a52",
   "metadata": {},
   "outputs": [
    {
     "data": {
      "text/html": [
       "<table class=\"simpletable\">\n",
       "<caption>ARMA Model Results</caption>\n",
       "<tr>\n",
       "  <th>Dep. Variable:</th>     <td>Adj_Close</td>    <th>  No. Observations:  </th>    <td>179</td>  \n",
       "</tr>\n",
       "<tr>\n",
       "  <th>Model:</th>            <td>ARMA(2, 0)</td>    <th>  Log Likelihood     </th> <td>-329.783</td>\n",
       "</tr>\n",
       "<tr>\n",
       "  <th>Method:</th>             <td>css-mle</td>     <th>  S.D. of innovations</th>   <td>1.510</td> \n",
       "</tr>\n",
       "<tr>\n",
       "  <th>Date:</th>          <td>Mon, 18 Jul 2022</td> <th>  AIC                </th>  <td>667.566</td>\n",
       "</tr>\n",
       "<tr>\n",
       "  <th>Time:</th>              <td>18:07:42</td>     <th>  BIC                </th>  <td>680.316</td>\n",
       "</tr>\n",
       "<tr>\n",
       "  <th>Sample:</th>           <td>01-01-2004</td>    <th>  HQIC               </th>  <td>672.736</td>\n",
       "</tr>\n",
       "<tr>\n",
       "  <th></th>                 <td>- 11-01-2018</td>   <th>                     </th>     <td> </td>   \n",
       "</tr>\n",
       "</table>\n",
       "<table class=\"simpletable\">\n",
       "<tr>\n",
       "         <td></td>            <th>coef</th>     <th>std err</th>      <th>z</th>      <th>P>|z|</th>  <th>[0.025</th>    <th>0.975]</th>  \n",
       "</tr>\n",
       "<tr>\n",
       "  <th>const</th>           <td>   14.8649</td> <td>    8.263</td> <td>    1.799</td> <td> 0.072</td> <td>   -1.331</td> <td>   31.060</td>\n",
       "</tr>\n",
       "<tr>\n",
       "  <th>ar.L1.Adj_Close</th> <td>    0.6755</td> <td>    0.071</td> <td>    9.569</td> <td> 0.000</td> <td>    0.537</td> <td>    0.814</td>\n",
       "</tr>\n",
       "<tr>\n",
       "  <th>ar.L2.Adj_Close</th> <td>    0.3162</td> <td>    0.071</td> <td>    4.458</td> <td> 0.000</td> <td>    0.177</td> <td>    0.455</td>\n",
       "</tr>\n",
       "</table>\n",
       "<table class=\"simpletable\">\n",
       "<caption>Roots</caption>\n",
       "<tr>\n",
       "    <td></td>   <th>            Real</th>  <th>         Imaginary</th> <th>         Modulus</th>  <th>        Frequency</th>\n",
       "</tr>\n",
       "<tr>\n",
       "  <th>AR.1</th> <td>           1.0063</td> <td>          +0.0000j</td> <td>           1.0063</td> <td>           0.0000</td>\n",
       "</tr>\n",
       "<tr>\n",
       "  <th>AR.2</th> <td>          -3.1430</td> <td>          +0.0000j</td> <td>           3.1430</td> <td>           0.5000</td>\n",
       "</tr>\n",
       "</table>"
      ],
      "text/plain": [
       "<class 'statsmodels.iolib.summary.Summary'>\n",
       "\"\"\"\n",
       "                              ARMA Model Results                              \n",
       "==============================================================================\n",
       "Dep. Variable:              Adj_Close   No. Observations:                  179\n",
       "Model:                     ARMA(2, 0)   Log Likelihood                -329.783\n",
       "Method:                       css-mle   S.D. of innovations              1.510\n",
       "Date:                Mon, 18 Jul 2022   AIC                            667.566\n",
       "Time:                        18:07:42   BIC                            680.316\n",
       "Sample:                    01-01-2004   HQIC                           672.736\n",
       "                         - 11-01-2018                                         \n",
       "===================================================================================\n",
       "                      coef    std err          z      P>|z|      [0.025      0.975]\n",
       "-----------------------------------------------------------------------------------\n",
       "const              14.8649      8.263      1.799      0.072      -1.331      31.060\n",
       "ar.L1.Adj_Close     0.6755      0.071      9.569      0.000       0.537       0.814\n",
       "ar.L2.Adj_Close     0.3162      0.071      4.458      0.000       0.177       0.455\n",
       "                                    Roots                                    \n",
       "=============================================================================\n",
       "                  Real          Imaginary           Modulus         Frequency\n",
       "-----------------------------------------------------------------------------\n",
       "AR.1            1.0063           +0.0000j            1.0063            0.0000\n",
       "AR.2           -3.1430           +0.0000j            3.1430            0.5000\n",
       "-----------------------------------------------------------------------------\n",
       "\"\"\""
      ]
     },
     "execution_count": 88,
     "metadata": {},
     "output_type": "execute_result"
    }
   ],
   "source": [
    "model_ar2 = ARMA(df_train.Adj_Close, order=(2,0))\n",
    "results_ar2 = model_ar2.fit()\n",
    "results_ar2.summary()"
   ]
  },
  {
   "cell_type": "code",
   "execution_count": 89,
   "id": "24a07ac9-98e5-4824-9d05-5fed00c7e1e8",
   "metadata": {},
   "outputs": [
    {
     "data": {
      "text/html": [
       "<table class=\"simpletable\">\n",
       "<caption>ARMA Model Results</caption>\n",
       "<tr>\n",
       "  <th>Dep. Variable:</th>     <td>Adj_Close</td>    <th>  No. Observations:  </th>    <td>179</td>  \n",
       "</tr>\n",
       "<tr>\n",
       "  <th>Model:</th>            <td>ARMA(3, 0)</td>    <th>  Log Likelihood     </th> <td>-328.419</td>\n",
       "</tr>\n",
       "<tr>\n",
       "  <th>Method:</th>             <td>css-mle</td>     <th>  S.D. of innovations</th>   <td>1.499</td> \n",
       "</tr>\n",
       "<tr>\n",
       "  <th>Date:</th>          <td>Mon, 18 Jul 2022</td> <th>  AIC                </th>  <td>666.837</td>\n",
       "</tr>\n",
       "<tr>\n",
       "  <th>Time:</th>              <td>18:07:42</td>     <th>  BIC                </th>  <td>682.774</td>\n",
       "</tr>\n",
       "<tr>\n",
       "  <th>Sample:</th>           <td>01-01-2004</td>    <th>  HQIC               </th>  <td>673.300</td>\n",
       "</tr>\n",
       "<tr>\n",
       "  <th></th>                 <td>- 11-01-2018</td>   <th>                     </th>     <td> </td>   \n",
       "</tr>\n",
       "</table>\n",
       "<table class=\"simpletable\">\n",
       "<tr>\n",
       "         <td></td>            <th>coef</th>     <th>std err</th>      <th>z</th>      <th>P>|z|</th>  <th>[0.025</th>    <th>0.975]</th>  \n",
       "</tr>\n",
       "<tr>\n",
       "  <th>const</th>           <td>   15.1753</td> <td>    8.830</td> <td>    1.719</td> <td> 0.086</td> <td>   -2.130</td> <td>   32.481</td>\n",
       "</tr>\n",
       "<tr>\n",
       "  <th>ar.L1.Adj_Close</th> <td>    0.6362</td> <td>    0.074</td> <td>    8.596</td> <td> 0.000</td> <td>    0.491</td> <td>    0.781</td>\n",
       "</tr>\n",
       "<tr>\n",
       "  <th>ar.L2.Adj_Close</th> <td>    0.2340</td> <td>    0.086</td> <td>    2.717</td> <td> 0.007</td> <td>    0.065</td> <td>    0.403</td>\n",
       "</tr>\n",
       "<tr>\n",
       "  <th>ar.L3.Adj_Close</th> <td>    0.1229</td> <td>    0.074</td> <td>    1.659</td> <td> 0.097</td> <td>   -0.022</td> <td>    0.268</td>\n",
       "</tr>\n",
       "</table>\n",
       "<table class=\"simpletable\">\n",
       "<caption>Roots</caption>\n",
       "<tr>\n",
       "    <td></td>   <th>            Real</th>  <th>         Imaginary</th> <th>         Modulus</th>  <th>        Frequency</th>\n",
       "</tr>\n",
       "<tr>\n",
       "  <th>AR.1</th> <td>           1.0047</td> <td>          -0.0000j</td> <td>           1.0047</td> <td>          -0.0000</td>\n",
       "</tr>\n",
       "<tr>\n",
       "  <th>AR.2</th> <td>          -1.4545</td> <td>          -2.4464j</td> <td>           2.8461</td> <td>          -0.3354</td>\n",
       "</tr>\n",
       "<tr>\n",
       "  <th>AR.3</th> <td>          -1.4545</td> <td>          +2.4464j</td> <td>           2.8461</td> <td>           0.3354</td>\n",
       "</tr>\n",
       "</table>"
      ],
      "text/plain": [
       "<class 'statsmodels.iolib.summary.Summary'>\n",
       "\"\"\"\n",
       "                              ARMA Model Results                              \n",
       "==============================================================================\n",
       "Dep. Variable:              Adj_Close   No. Observations:                  179\n",
       "Model:                     ARMA(3, 0)   Log Likelihood                -328.419\n",
       "Method:                       css-mle   S.D. of innovations              1.499\n",
       "Date:                Mon, 18 Jul 2022   AIC                            666.837\n",
       "Time:                        18:07:42   BIC                            682.774\n",
       "Sample:                    01-01-2004   HQIC                           673.300\n",
       "                         - 11-01-2018                                         \n",
       "===================================================================================\n",
       "                      coef    std err          z      P>|z|      [0.025      0.975]\n",
       "-----------------------------------------------------------------------------------\n",
       "const              15.1753      8.830      1.719      0.086      -2.130      32.481\n",
       "ar.L1.Adj_Close     0.6362      0.074      8.596      0.000       0.491       0.781\n",
       "ar.L2.Adj_Close     0.2340      0.086      2.717      0.007       0.065       0.403\n",
       "ar.L3.Adj_Close     0.1229      0.074      1.659      0.097      -0.022       0.268\n",
       "                                    Roots                                    \n",
       "=============================================================================\n",
       "                  Real          Imaginary           Modulus         Frequency\n",
       "-----------------------------------------------------------------------------\n",
       "AR.1            1.0047           -0.0000j            1.0047           -0.0000\n",
       "AR.2           -1.4545           -2.4464j            2.8461           -0.3354\n",
       "AR.3           -1.4545           +2.4464j            2.8461            0.3354\n",
       "-----------------------------------------------------------------------------\n",
       "\"\"\""
      ]
     },
     "execution_count": 89,
     "metadata": {},
     "output_type": "execute_result"
    }
   ],
   "source": [
    "model_ar3 = ARMA(df_train.Adj_Close, order=(3,0))\n",
    "results_ar3 = model_ar3.fit()\n",
    "results_ar3.summary()"
   ]
  },
  {
   "cell_type": "markdown",
   "id": "75e52c93-7674-44ac-a21c-5fcd7ab411b5",
   "metadata": {},
   "source": [
    "### LLR test"
   ]
  },
  {
   "cell_type": "code",
   "execution_count": 90,
   "id": "8c2ceaff-5b45-4882-828d-59feec9217e0",
   "metadata": {},
   "outputs": [],
   "source": [
    "from scipy.stats.distributions import chi2"
   ]
  },
  {
   "cell_type": "code",
   "execution_count": 91,
   "id": "41be49a9-1da0-4b85-b834-20a0d6eb1bb2",
   "metadata": {},
   "outputs": [],
   "source": [
    "def LLR_test(mod_1,mod_2, DF=1): #DF is the degrees of freedom or no. of lags\n",
    "    L1 = mod_1.fit().llf\n",
    "    L2 = mod_2.fit().llf\n",
    "    LR = (2*(L2-L1))\n",
    "    p= chi2.sf(LR,DF).round(3)\n",
    "    return p\n",
    "    "
   ]
  },
  {
   "cell_type": "code",
   "execution_count": 92,
   "id": "fa39376a-67a3-427e-996a-2a0c297d9c78",
   "metadata": {},
   "outputs": [
    {
     "data": {
      "text/plain": [
       "0.0"
      ]
     },
     "execution_count": 92,
     "metadata": {},
     "output_type": "execute_result"
    }
   ],
   "source": [
    "LLR_test(model_ar1,model_ar2)"
   ]
  },
  {
   "cell_type": "code",
   "execution_count": 93,
   "id": "28842a02-6deb-40f8-9a97-2cb41e62a3a4",
   "metadata": {},
   "outputs": [
    {
     "data": {
      "text/plain": [
       "0.099"
      ]
     },
     "execution_count": 93,
     "metadata": {},
     "output_type": "execute_result"
    }
   ],
   "source": [
    "LLR_test(model_ar2,model_ar3)"
   ]
  },
  {
   "cell_type": "markdown",
   "id": "4f557931-de9e-48c9-9663-65cc503d7607",
   "metadata": {},
   "source": [
    "Hence we opt for AR model with 2 lags"
   ]
  },
  {
   "cell_type": "code",
   "execution_count": 94,
   "id": "5f15bb8a-7ed5-4e36-8ecd-0fd9026b6e73",
   "metadata": {},
   "outputs": [
    {
     "name": "stdout",
     "output_type": "stream",
     "text": [
      "                              ARMA Model Results                              \n",
      "==============================================================================\n",
      "Dep. Variable:              Adj_Close   No. Observations:                  179\n",
      "Model:                     ARMA(4, 0)   Log Likelihood                -328.417\n",
      "Method:                       css-mle   S.D. of innovations              1.499\n",
      "Date:                Mon, 18 Jul 2022   AIC                            668.835\n",
      "Time:                        18:07:43   BIC                            687.959\n",
      "Sample:                    01-01-2004   HQIC                           676.590\n",
      "                         - 11-01-2018                                         \n",
      "===================================================================================\n",
      "                      coef    std err          z      P>|z|      [0.025      0.975]\n",
      "-----------------------------------------------------------------------------------\n",
      "const              15.1663      8.815      1.721      0.085      -2.111      32.443\n",
      "ar.L1.Adj_Close     0.6367      0.075      8.533      0.000       0.490       0.783\n",
      "ar.L2.Adj_Close     0.2349      0.088      2.673      0.008       0.063       0.407\n",
      "ar.L3.Adj_Close     0.1253      0.088      1.430      0.153      -0.046       0.297\n",
      "ar.L4.Adj_Close    -0.0038      0.074     -0.052      0.959      -0.150       0.142\n",
      "                                    Roots                                    \n",
      "=============================================================================\n",
      "                  Real          Imaginary           Modulus         Frequency\n",
      "-----------------------------------------------------------------------------\n",
      "AR.1            1.0048           -0.0000j            1.0048           -0.0000\n",
      "AR.2           -1.4544           -2.3219j            2.7398           -0.3391\n",
      "AR.3           -1.4544           +2.3219j            2.7398            0.3391\n",
      "AR.4           34.5773           -0.0000j           34.5773           -0.0000\n",
      "-----------------------------------------------------------------------------\n",
      "\n",
      "LLR test p-value = 0.959\n"
     ]
    }
   ],
   "source": [
    "model_ar4= ARMA(df_train.Adj_Close, order=(4,0))\n",
    "results_ar4=model_ar4.fit()\n",
    "print(results_ar4.summary())\n",
    "print(\"\\nLLR test p-value = \" + str(LLR_test(model_ar3,model_ar4)))"
   ]
  },
  {
   "cell_type": "markdown",
   "id": "f18f5f76-89b7-4cef-865f-0d66c5f5b285",
   "metadata": {},
   "source": [
    "### Residuals"
   ]
  },
  {
   "cell_type": "code",
   "execution_count": 95,
   "id": "26da6b36-0260-437a-b144-ee3c8603acfb",
   "metadata": {},
   "outputs": [],
   "source": [
    "df_train[\"res\"] = results_ar2.resid"
   ]
  },
  {
   "cell_type": "code",
   "execution_count": 96,
   "id": "9ce4fe5f-0b41-47d4-b7fd-fafedd2476ab",
   "metadata": {},
   "outputs": [
    {
     "data": {
      "text/plain": [
       "(-11.081451208862422,\n",
       " 4.3010466853111833e-20,\n",
       " 1,\n",
       " 177,\n",
       " {'1%': -3.467845319799907,\n",
       "  '5%': -2.878011745497439,\n",
       "  '10%': -2.575551186759871},\n",
       " 615.5917076559588)"
      ]
     },
     "execution_count": 96,
     "metadata": {},
     "output_type": "execute_result"
    }
   ],
   "source": [
    "sts.adfuller(df_train.res)"
   ]
  },
  {
   "cell_type": "markdown",
   "id": "9ed088ad-c56e-4b67-8bab-8cb18af50625",
   "metadata": {},
   "source": [
    "### MA moving average model"
   ]
  },
  {
   "cell_type": "code",
   "execution_count": 97,
   "id": "aa7bfffb-1bff-4726-a290-5a2c85d1e82e",
   "metadata": {},
   "outputs": [
    {
     "data": {
      "text/html": [
       "<table class=\"simpletable\">\n",
       "<caption>ARMA Model Results</caption>\n",
       "<tr>\n",
       "  <th>Dep. Variable:</th>     <td>Adj_Close</td>    <th>  No. Observations:  </th>    <td>179</td>  \n",
       "</tr>\n",
       "<tr>\n",
       "  <th>Model:</th>            <td>ARMA(0, 1)</td>    <th>  Log Likelihood     </th> <td>-540.427</td>\n",
       "</tr>\n",
       "<tr>\n",
       "  <th>Method:</th>             <td>css-mle</td>     <th>  S.D. of innovations</th>   <td>4.937</td> \n",
       "</tr>\n",
       "<tr>\n",
       "  <th>Date:</th>          <td>Mon, 18 Jul 2022</td> <th>  AIC                </th> <td>1086.855</td>\n",
       "</tr>\n",
       "<tr>\n",
       "  <th>Time:</th>              <td>18:07:43</td>     <th>  BIC                </th> <td>1096.417</td>\n",
       "</tr>\n",
       "<tr>\n",
       "  <th>Sample:</th>           <td>01-01-2004</td>    <th>  HQIC               </th> <td>1090.732</td>\n",
       "</tr>\n",
       "<tr>\n",
       "  <th></th>                 <td>- 11-01-2018</td>   <th>                     </th>     <td> </td>   \n",
       "</tr>\n",
       "</table>\n",
       "<table class=\"simpletable\">\n",
       "<tr>\n",
       "         <td></td>            <th>coef</th>     <th>std err</th>      <th>z</th>      <th>P>|z|</th>  <th>[0.025</th>    <th>0.975]</th>  \n",
       "</tr>\n",
       "<tr>\n",
       "  <th>const</th>           <td>   11.8382</td> <td>    0.676</td> <td>   17.516</td> <td> 0.000</td> <td>   10.514</td> <td>   13.163</td>\n",
       "</tr>\n",
       "<tr>\n",
       "  <th>ma.L1.Adj_Close</th> <td>    0.8360</td> <td>    0.028</td> <td>   29.461</td> <td> 0.000</td> <td>    0.780</td> <td>    0.892</td>\n",
       "</tr>\n",
       "</table>\n",
       "<table class=\"simpletable\">\n",
       "<caption>Roots</caption>\n",
       "<tr>\n",
       "    <td></td>   <th>            Real</th>  <th>         Imaginary</th> <th>         Modulus</th>  <th>        Frequency</th>\n",
       "</tr>\n",
       "<tr>\n",
       "  <th>MA.1</th> <td>          -1.1961</td> <td>          +0.0000j</td> <td>           1.1961</td> <td>           0.5000</td>\n",
       "</tr>\n",
       "</table>"
      ],
      "text/plain": [
       "<class 'statsmodels.iolib.summary.Summary'>\n",
       "\"\"\"\n",
       "                              ARMA Model Results                              \n",
       "==============================================================================\n",
       "Dep. Variable:              Adj_Close   No. Observations:                  179\n",
       "Model:                     ARMA(0, 1)   Log Likelihood                -540.427\n",
       "Method:                       css-mle   S.D. of innovations              4.937\n",
       "Date:                Mon, 18 Jul 2022   AIC                           1086.855\n",
       "Time:                        18:07:43   BIC                           1096.417\n",
       "Sample:                    01-01-2004   HQIC                          1090.732\n",
       "                         - 11-01-2018                                         \n",
       "===================================================================================\n",
       "                      coef    std err          z      P>|z|      [0.025      0.975]\n",
       "-----------------------------------------------------------------------------------\n",
       "const              11.8382      0.676     17.516      0.000      10.514      13.163\n",
       "ma.L1.Adj_Close     0.8360      0.028     29.461      0.000       0.780       0.892\n",
       "                                    Roots                                    \n",
       "=============================================================================\n",
       "                  Real          Imaginary           Modulus         Frequency\n",
       "-----------------------------------------------------------------------------\n",
       "MA.1           -1.1961           +0.0000j            1.1961            0.5000\n",
       "-----------------------------------------------------------------------------\n",
       "\"\"\""
      ]
     },
     "execution_count": 97,
     "metadata": {},
     "output_type": "execute_result"
    }
   ],
   "source": [
    "model_ma1= ARMA(df_train.Adj_Close, order=(0,1))\n",
    "results_ma1=model_ma1.fit()\n",
    "results_ma1.summary()"
   ]
  },
  {
   "cell_type": "code",
   "execution_count": 98,
   "id": "6d10cebd-0727-4066-a87a-202c536c8c6d",
   "metadata": {},
   "outputs": [
    {
     "name": "stdout",
     "output_type": "stream",
     "text": [
      "                              ARMA Model Results                              \n",
      "==============================================================================\n",
      "Dep. Variable:              Adj_Close   No. Observations:                  179\n",
      "Model:                     ARMA(0, 2)   Log Likelihood                -482.046\n",
      "Method:                       css-mle   S.D. of innovations              3.556\n",
      "Date:                Mon, 18 Jul 2022   AIC                            972.093\n",
      "Time:                        18:07:43   BIC                            984.842\n",
      "Sample:                    01-01-2004   HQIC                           977.263\n",
      "                         - 11-01-2018                                         \n",
      "===================================================================================\n",
      "                      coef    std err          z      P>|z|      [0.025      0.975]\n",
      "-----------------------------------------------------------------------------------\n",
      "const              11.8660      0.763     15.552      0.000      10.371      13.361\n",
      "ma.L1.Adj_Close     1.2030      0.056     21.462      0.000       1.093       1.313\n",
      "ma.L2.Adj_Close     0.6822      0.046     14.907      0.000       0.592       0.772\n",
      "                                    Roots                                    \n",
      "=============================================================================\n",
      "                  Real          Imaginary           Modulus         Frequency\n",
      "-----------------------------------------------------------------------------\n",
      "MA.1           -0.8817           -0.8297j            1.2108           -0.3798\n",
      "MA.2           -0.8817           +0.8297j            1.2108            0.3798\n",
      "-----------------------------------------------------------------------------\n",
      "\n",
      "LLR test p-value = 0.0\n"
     ]
    }
   ],
   "source": [
    "model_ma2= ARMA(df_train.Adj_Close, order=(0,2))\n",
    "results_ma2=model_ma2.fit()\n",
    "print(results_ma2.summary())\n",
    "print(\"\\nLLR test p-value = \" + str(LLR_test(model_ma1,model_ma2)))"
   ]
  },
  {
   "cell_type": "code",
   "execution_count": 99,
   "id": "950be938-1422-4990-ae35-9ef13a8cd797",
   "metadata": {},
   "outputs": [
    {
     "name": "stdout",
     "output_type": "stream",
     "text": [
      "                              ARMA Model Results                              \n",
      "==============================================================================\n",
      "Dep. Variable:              Adj_Close   No. Observations:                  179\n",
      "Model:                     ARMA(0, 3)   Log Likelihood                -444.580\n",
      "Method:                       css-mle   S.D. of innovations              2.880\n",
      "Date:                Mon, 18 Jul 2022   AIC                            899.159\n",
      "Time:                        18:07:44   BIC                            915.096\n",
      "Sample:                    01-01-2004   HQIC                           905.621\n",
      "                         - 11-01-2018                                         \n",
      "===================================================================================\n",
      "                      coef    std err          z      P>|z|      [0.025      0.975]\n",
      "-----------------------------------------------------------------------------------\n",
      "const              11.8920      0.834     14.252      0.000      10.257      13.527\n",
      "ma.L1.Adj_Close     1.2047      0.060     19.993      0.000       1.087       1.323\n",
      "ma.L2.Adj_Close     1.0983      0.063     17.421      0.000       0.975       1.222\n",
      "ma.L3.Adj_Close     0.6025      0.047     12.872      0.000       0.511       0.694\n",
      "                                    Roots                                    \n",
      "=============================================================================\n",
      "                  Real          Imaginary           Modulus         Frequency\n",
      "-----------------------------------------------------------------------------\n",
      "MA.1           -0.2737           -1.1074j            1.1407           -0.2886\n",
      "MA.2           -0.2737           +1.1074j            1.1407            0.2886\n",
      "MA.3           -1.2754           -0.0000j            1.2754           -0.5000\n",
      "-----------------------------------------------------------------------------\n",
      "\n",
      "LLR test p-value = 0.0\n"
     ]
    }
   ],
   "source": [
    "model_ma3= ARMA(df_train.Adj_Close, order=(0,3))\n",
    "results_ma3=model_ma3.fit()\n",
    "print(results_ma3.summary())\n",
    "print(\"\\nLLR test p-value = \" + str(LLR_test(model_ma2,model_ma3)))"
   ]
  },
  {
   "cell_type": "code",
   "execution_count": 100,
   "id": "32268cf8-5f2f-45b0-97ef-c8f9626cbcf6",
   "metadata": {},
   "outputs": [
    {
     "name": "stdout",
     "output_type": "stream",
     "text": [
      "                              ARMA Model Results                              \n",
      "==============================================================================\n",
      "Dep. Variable:              Adj_Close   No. Observations:                  179\n",
      "Model:                    ARMA(0, 12)   Log Likelihood                -355.880\n",
      "Method:                       css-mle   S.D. of innovations              1.748\n",
      "Date:                Mon, 18 Jul 2022   AIC                            739.760\n",
      "Time:                        18:07:53   BIC                            784.383\n",
      "Sample:                    01-01-2004   HQIC                           757.854\n",
      "                         - 11-01-2018                                         \n",
      "====================================================================================\n",
      "                       coef    std err          z      P>|z|      [0.025      0.975]\n",
      "------------------------------------------------------------------------------------\n",
      "const               12.0487      1.482      8.131      0.000       9.144      14.953\n",
      "ma.L1.Adj_Close      0.9225      0.079     11.737      0.000       0.768       1.077\n",
      "ma.L2.Adj_Close      1.1328      0.108     10.496      0.000       0.921       1.344\n",
      "ma.L3.Adj_Close      1.2965      0.133      9.772      0.000       1.036       1.556\n",
      "ma.L4.Adj_Close      1.3169      0.151      8.738      0.000       1.021       1.612\n",
      "ma.L5.Adj_Close      1.3068      0.158      8.250      0.000       0.996       1.617\n",
      "ma.L6.Adj_Close      1.2403      0.157      7.878      0.000       0.932       1.549\n",
      "ma.L7.Adj_Close      1.0455      0.149      7.009      0.000       0.753       1.338\n",
      "ma.L8.Adj_Close      0.8643      0.139      6.203      0.000       0.591       1.137\n",
      "ma.L9.Adj_Close      0.6603      0.125      5.262      0.000       0.414       0.906\n",
      "ma.L10.Adj_Close     0.3899      0.104      3.739      0.000       0.186       0.594\n",
      "ma.L11.Adj_Close     0.2249      0.087      2.582      0.010       0.054       0.396\n",
      "ma.L12.Adj_Close     0.2386      0.072      3.298      0.001       0.097       0.380\n",
      "                                    Roots                                     \n",
      "==============================================================================\n",
      "                   Real          Imaginary           Modulus         Frequency\n",
      "------------------------------------------------------------------------------\n",
      "MA.1            -1.0835           -0.2746j            1.1177           -0.4605\n",
      "MA.2            -1.0835           +0.2746j            1.1177            0.4605\n",
      "MA.3            -0.8281           -0.7440j            1.1132           -0.3835\n",
      "MA.4            -0.8281           +0.7440j            1.1132            0.3835\n",
      "MA.5            -0.3193           -1.0468j            1.0944           -0.2971\n",
      "MA.6            -0.3193           +1.0468j            1.0944            0.2971\n",
      "MA.7             0.2118           -1.1066j            1.1267           -0.2199\n",
      "MA.8             0.2118           +1.1066j            1.1267            0.2199\n",
      "MA.9             0.8670           -0.6956j            1.1115           -0.1076\n",
      "MA.10            0.8670           +0.6956j            1.1115            0.1076\n",
      "MA.11            0.6807           -0.9889j            1.2005           -0.1541\n",
      "MA.12            0.6807           +0.9889j            1.2005            0.1541\n",
      "------------------------------------------------------------------------------\n",
      "\n",
      "LLR test p-value = 0.0\n"
     ]
    }
   ],
   "source": [
    "model_ma12= ARMA(df_train.Adj_Close, order=(0,12))\n",
    "results_ma12=model_ma12.fit()\n",
    "print(results_ma12.summary())\n",
    "print(\"\\nLLR test p-value = \" + str(LLR_test(model_ma3,model_ma12,9)))"
   ]
  },
  {
   "cell_type": "markdown",
   "id": "405318dc-3906-4adc-9603-faf9c3d707ee",
   "metadata": {},
   "source": [
    "### ARMA model"
   ]
  },
  {
   "cell_type": "code",
   "execution_count": 101,
   "id": "fc7c6e71-70c9-4789-a827-eaccef194961",
   "metadata": {},
   "outputs": [],
   "source": [
    "# model_ar1_ma1 = ARMA(df_train.Adj_Close, order = (1,2))\n",
    "# results_ar1_ma1 = model_ar1_ma1.fit()\n",
    "# results_ar1_ma1.summary()"
   ]
  },
  {
   "cell_type": "markdown",
   "id": "7545901a-ed00-4a25-a059-dac34ef7f48f",
   "metadata": {},
   "source": [
    "### Difference"
   ]
  },
  {
   "cell_type": "code",
   "execution_count": 102,
   "id": "173ff2dd-f787-4bae-8ff0-ca48622f232f",
   "metadata": {},
   "outputs": [],
   "source": [
    "df_train[\"returns\"] = df_train.Adj_Close.pct_change(1).mul(100)\n",
    "df_test[\"returns\"] = df_test.Adj_Close.pct_change(1).mul(100)"
   ]
  },
  {
   "cell_type": "code",
   "execution_count": 103,
   "id": "8c5c1adf-1edd-4e67-aaf2-586da55db09a",
   "metadata": {},
   "outputs": [
    {
     "data": {
      "text/html": [
       "<div>\n",
       "<style scoped>\n",
       "    .dataframe tbody tr th:only-of-type {\n",
       "        vertical-align: middle;\n",
       "    }\n",
       "\n",
       "    .dataframe tbody tr th {\n",
       "        vertical-align: top;\n",
       "    }\n",
       "\n",
       "    .dataframe thead th {\n",
       "        text-align: right;\n",
       "    }\n",
       "</style>\n",
       "<table border=\"1\" class=\"dataframe\">\n",
       "  <thead>\n",
       "    <tr style=\"text-align: right;\">\n",
       "      <th></th>\n",
       "      <th>Adj_Close</th>\n",
       "      <th>wn</th>\n",
       "      <th>res</th>\n",
       "      <th>returns</th>\n",
       "    </tr>\n",
       "    <tr>\n",
       "      <th>Date</th>\n",
       "      <th></th>\n",
       "      <th></th>\n",
       "      <th></th>\n",
       "      <th></th>\n",
       "    </tr>\n",
       "  </thead>\n",
       "  <tbody>\n",
       "    <tr>\n",
       "      <th>2004-01-01</th>\n",
       "      <td>5.1861</td>\n",
       "      <td>13.254586</td>\n",
       "      <td>-9.678780</td>\n",
       "      <td>NaN</td>\n",
       "    </tr>\n",
       "    <tr>\n",
       "      <th>2004-02-01</th>\n",
       "      <td>5.1892</td>\n",
       "      <td>15.223815</td>\n",
       "      <td>-0.114566</td>\n",
       "      <td>0.059775</td>\n",
       "    </tr>\n",
       "    <tr>\n",
       "      <th>2004-03-01</th>\n",
       "      <td>5.1851</td>\n",
       "      <td>7.681252</td>\n",
       "      <td>-0.083559</td>\n",
       "      <td>-0.079010</td>\n",
       "    </tr>\n",
       "    <tr>\n",
       "      <th>2004-04-01</th>\n",
       "      <td>5.1634</td>\n",
       "      <td>8.599160</td>\n",
       "      <td>-0.103469</td>\n",
       "      <td>-0.418507</td>\n",
       "    </tr>\n",
       "    <tr>\n",
       "      <th>2004-05-01</th>\n",
       "      <td>5.1765</td>\n",
       "      <td>-8.702735</td>\n",
       "      <td>-0.074414</td>\n",
       "      <td>0.253709</td>\n",
       "    </tr>\n",
       "  </tbody>\n",
       "</table>\n",
       "</div>"
      ],
      "text/plain": [
       "            Adj_Close         wn       res   returns\n",
       "Date                                                \n",
       "2004-01-01     5.1861  13.254586 -9.678780       NaN\n",
       "2004-02-01     5.1892  15.223815 -0.114566  0.059775\n",
       "2004-03-01     5.1851   7.681252 -0.083559 -0.079010\n",
       "2004-04-01     5.1634   8.599160 -0.103469 -0.418507\n",
       "2004-05-01     5.1765  -8.702735 -0.074414  0.253709"
      ]
     },
     "execution_count": 103,
     "metadata": {},
     "output_type": "execute_result"
    }
   ],
   "source": [
    "df_train.head()"
   ]
  },
  {
   "cell_type": "code",
   "execution_count": 104,
   "id": "23471a58-5b74-4513-8a09-9ec9c9550666",
   "metadata": {},
   "outputs": [
    {
     "data": {
      "text/plain": [
       "(-15.252178951746169,\n",
       " 4.991764360458611e-28,\n",
       " 0,\n",
       " 177,\n",
       " {'1%': -3.467845319799907,\n",
       "  '5%': -2.878011745497439,\n",
       "  '10%': -2.575551186759871},\n",
       " 1206.1051081725288)"
      ]
     },
     "execution_count": 104,
     "metadata": {},
     "output_type": "execute_result"
    }
   ],
   "source": [
    "sts.adfuller(df_train.returns[1:])"
   ]
  },
  {
   "cell_type": "code",
   "execution_count": 105,
   "id": "bbcf0045-0b37-4e8d-a81c-89f4061483b9",
   "metadata": {},
   "outputs": [
    {
     "data": {
      "text/html": [
       "<table class=\"simpletable\">\n",
       "<caption>ARMA Model Results</caption>\n",
       "<tr>\n",
       "  <th>Dep. Variable:</th>      <td>returns</td>     <th>  No. Observations:  </th>    <td>178</td>  \n",
       "</tr>\n",
       "<tr>\n",
       "  <th>Model:</th>            <td>ARMA(2, 2)</td>    <th>  Log Likelihood     </th> <td>-647.139</td>\n",
       "</tr>\n",
       "<tr>\n",
       "  <th>Method:</th>             <td>css-mle</td>     <th>  S.D. of innovations</th>   <td>9.169</td> \n",
       "</tr>\n",
       "<tr>\n",
       "  <th>Date:</th>          <td>Mon, 18 Jul 2022</td> <th>  AIC                </th> <td>1306.277</td>\n",
       "</tr>\n",
       "<tr>\n",
       "  <th>Time:</th>              <td>18:08:06</td>     <th>  BIC                </th> <td>1325.368</td>\n",
       "</tr>\n",
       "<tr>\n",
       "  <th>Sample:</th>           <td>02-01-2004</td>    <th>  HQIC               </th> <td>1314.019</td>\n",
       "</tr>\n",
       "<tr>\n",
       "  <th></th>                 <td>- 11-01-2018</td>   <th>                     </th>     <td> </td>   \n",
       "</tr>\n",
       "</table>\n",
       "<table class=\"simpletable\">\n",
       "<tr>\n",
       "        <td></td>           <th>coef</th>     <th>std err</th>      <th>z</th>      <th>P>|z|</th>  <th>[0.025</th>    <th>0.975]</th>  \n",
       "</tr>\n",
       "<tr>\n",
       "  <th>const</th>         <td>    1.2597</td> <td>    0.684</td> <td>    1.842</td> <td> 0.065</td> <td>   -0.081</td> <td>    2.600</td>\n",
       "</tr>\n",
       "<tr>\n",
       "  <th>ar.L1.returns</th> <td>    0.2728</td> <td>    0.120</td> <td>    2.268</td> <td> 0.023</td> <td>    0.037</td> <td>    0.509</td>\n",
       "</tr>\n",
       "<tr>\n",
       "  <th>ar.L2.returns</th> <td>   -0.7734</td> <td>    0.144</td> <td>   -5.361</td> <td> 0.000</td> <td>   -1.056</td> <td>   -0.491</td>\n",
       "</tr>\n",
       "<tr>\n",
       "  <th>ma.L1.returns</th> <td>   -0.3746</td> <td>    0.095</td> <td>   -3.923</td> <td> 0.000</td> <td>   -0.562</td> <td>   -0.187</td>\n",
       "</tr>\n",
       "<tr>\n",
       "  <th>ma.L2.returns</th> <td>    0.8682</td> <td>    0.112</td> <td>    7.768</td> <td> 0.000</td> <td>    0.649</td> <td>    1.087</td>\n",
       "</tr>\n",
       "</table>\n",
       "<table class=\"simpletable\">\n",
       "<caption>Roots</caption>\n",
       "<tr>\n",
       "    <td></td>   <th>            Real</th>  <th>         Imaginary</th> <th>         Modulus</th>  <th>        Frequency</th>\n",
       "</tr>\n",
       "<tr>\n",
       "  <th>AR.1</th> <td>           0.1764</td> <td>          -1.1233j</td> <td>           1.1371</td> <td>          -0.2252</td>\n",
       "</tr>\n",
       "<tr>\n",
       "  <th>AR.2</th> <td>           0.1764</td> <td>          +1.1233j</td> <td>           1.1371</td> <td>           0.2252</td>\n",
       "</tr>\n",
       "<tr>\n",
       "  <th>MA.1</th> <td>           0.2157</td> <td>          -1.0513j</td> <td>           1.0732</td> <td>          -0.2178</td>\n",
       "</tr>\n",
       "<tr>\n",
       "  <th>MA.2</th> <td>           0.2157</td> <td>          +1.0513j</td> <td>           1.0732</td> <td>           0.2178</td>\n",
       "</tr>\n",
       "</table>"
      ],
      "text/plain": [
       "<class 'statsmodels.iolib.summary.Summary'>\n",
       "\"\"\"\n",
       "                              ARMA Model Results                              \n",
       "==============================================================================\n",
       "Dep. Variable:                returns   No. Observations:                  178\n",
       "Model:                     ARMA(2, 2)   Log Likelihood                -647.139\n",
       "Method:                       css-mle   S.D. of innovations              9.169\n",
       "Date:                Mon, 18 Jul 2022   AIC                           1306.277\n",
       "Time:                        18:08:06   BIC                           1325.368\n",
       "Sample:                    02-01-2004   HQIC                          1314.019\n",
       "                         - 11-01-2018                                         \n",
       "=================================================================================\n",
       "                    coef    std err          z      P>|z|      [0.025      0.975]\n",
       "---------------------------------------------------------------------------------\n",
       "const             1.2597      0.684      1.842      0.065      -0.081       2.600\n",
       "ar.L1.returns     0.2728      0.120      2.268      0.023       0.037       0.509\n",
       "ar.L2.returns    -0.7734      0.144     -5.361      0.000      -1.056      -0.491\n",
       "ma.L1.returns    -0.3746      0.095     -3.923      0.000      -0.562      -0.187\n",
       "ma.L2.returns     0.8682      0.112      7.768      0.000       0.649       1.087\n",
       "                                    Roots                                    \n",
       "=============================================================================\n",
       "                  Real          Imaginary           Modulus         Frequency\n",
       "-----------------------------------------------------------------------------\n",
       "AR.1            0.1764           -1.1233j            1.1371           -0.2252\n",
       "AR.2            0.1764           +1.1233j            1.1371            0.2252\n",
       "MA.1            0.2157           -1.0513j            1.0732           -0.2178\n",
       "MA.2            0.2157           +1.0513j            1.0732            0.2178\n",
       "-----------------------------------------------------------------------------\n",
       "\"\"\""
      ]
     },
     "execution_count": 105,
     "metadata": {},
     "output_type": "execute_result"
    }
   ],
   "source": [
    "model_ret_ar1_ma1 = ARMA(df_train.returns[1:], order = (2,2))\n",
    "results_ret_ar1_ma1 = model_ret_ar1_ma1.fit()\n",
    "results_ret_ar1_ma1.summary()"
   ]
  },
  {
   "cell_type": "code",
   "execution_count": 106,
   "id": "03a53096-3fb1-477c-a0dc-80de00a1c4b5",
   "metadata": {},
   "outputs": [
    {
     "data": {
      "image/png": "[encoded data removed]",
      "text/plain": [
       "<Figure size 432x288 with 1 Axes>"
      ]
     },
     "execution_count": 106,
     "metadata": {},
     "output_type": "execute_result"
    },
    {
     "data": {
      "image/png": "[encoded data removed]",
      "text/plain": [
       "<Figure size 432x288 with 1 Axes>"
      ]
     },
     "metadata": {
      "needs_background": "light"
     },
     "output_type": "display_data"
    }
   ],
   "source": [
    "sgt.plot_acf(df_train.returns[1:], lags=40,zero=False)"
   ]
  },
  {
   "cell_type": "markdown",
   "id": "f8d6d04f-e7fc-44ba-b4a0-7cfc2e3ef225",
   "metadata": {},
   "source": [
    "### ARIMA model"
   ]
  },
  {
   "cell_type": "code",
   "execution_count": 107,
   "id": "fb190e1b-4b0c-453e-a34e-74d861e0e831",
   "metadata": {},
   "outputs": [],
   "source": [
    "from statsmodels.tsa.arima_model import ARIMA"
   ]
  },
  {
   "cell_type": "code",
   "execution_count": 108,
   "id": "1fe173ac-ab8b-4942-8d06-d71eaa16e2b2",
   "metadata": {},
   "outputs": [
    {
     "data": {
      "text/html": [
       "<table class=\"simpletable\">\n",
       "<caption>ARIMA Model Results</caption>\n",
       "<tr>\n",
       "  <th>Dep. Variable:</th>    <td>D.Adj_Close</td>   <th>  No. Observations:  </th>    <td>178</td>  \n",
       "</tr>\n",
       "<tr>\n",
       "  <th>Model:</th>          <td>ARIMA(1, 1, 1)</td>  <th>  Log Likelihood     </th> <td>-322.918</td>\n",
       "</tr>\n",
       "<tr>\n",
       "  <th>Method:</th>             <td>css-mle</td>     <th>  S.D. of innovations</th>   <td>1.484</td> \n",
       "</tr>\n",
       "<tr>\n",
       "  <th>Date:</th>          <td>Mon, 18 Jul 2022</td> <th>  AIC                </th>  <td>653.835</td>\n",
       "</tr>\n",
       "<tr>\n",
       "  <th>Time:</th>              <td>18:08:06</td>     <th>  BIC                </th>  <td>666.562</td>\n",
       "</tr>\n",
       "<tr>\n",
       "  <th>Sample:</th>           <td>02-01-2004</td>    <th>  HQIC               </th>  <td>658.996</td>\n",
       "</tr>\n",
       "<tr>\n",
       "  <th></th>                 <td>- 11-01-2018</td>   <th>                     </th>     <td> </td>   \n",
       "</tr>\n",
       "</table>\n",
       "<table class=\"simpletable\">\n",
       "<tr>\n",
       "          <td></td>             <th>coef</th>     <th>std err</th>      <th>z</th>      <th>P>|z|</th>  <th>[0.025</th>    <th>0.975]</th>  \n",
       "</tr>\n",
       "<tr>\n",
       "  <th>const</th>             <td>    0.1290</td> <td>    0.063</td> <td>    2.050</td> <td> 0.040</td> <td>    0.006</td> <td>    0.252</td>\n",
       "</tr>\n",
       "<tr>\n",
       "  <th>ar.L1.D.Adj_Close</th> <td>    0.1203</td> <td>    0.223</td> <td>    0.539</td> <td> 0.590</td> <td>   -0.317</td> <td>    0.558</td>\n",
       "</tr>\n",
       "<tr>\n",
       "  <th>ma.L1.D.Adj_Close</th> <td>   -0.5049</td> <td>    0.201</td> <td>   -2.514</td> <td> 0.012</td> <td>   -0.898</td> <td>   -0.111</td>\n",
       "</tr>\n",
       "</table>\n",
       "<table class=\"simpletable\">\n",
       "<caption>Roots</caption>\n",
       "<tr>\n",
       "    <td></td>   <th>            Real</th>  <th>         Imaginary</th> <th>         Modulus</th>  <th>        Frequency</th>\n",
       "</tr>\n",
       "<tr>\n",
       "  <th>AR.1</th> <td>           8.3140</td> <td>          +0.0000j</td> <td>           8.3140</td> <td>           0.0000</td>\n",
       "</tr>\n",
       "<tr>\n",
       "  <th>MA.1</th> <td>           1.9808</td> <td>          +0.0000j</td> <td>           1.9808</td> <td>           0.0000</td>\n",
       "</tr>\n",
       "</table>"
      ],
      "text/plain": [
       "<class 'statsmodels.iolib.summary.Summary'>\n",
       "\"\"\"\n",
       "                             ARIMA Model Results                              \n",
       "==============================================================================\n",
       "Dep. Variable:            D.Adj_Close   No. Observations:                  178\n",
       "Model:                 ARIMA(1, 1, 1)   Log Likelihood                -322.918\n",
       "Method:                       css-mle   S.D. of innovations              1.484\n",
       "Date:                Mon, 18 Jul 2022   AIC                            653.835\n",
       "Time:                        18:08:06   BIC                            666.562\n",
       "Sample:                    02-01-2004   HQIC                           658.996\n",
       "                         - 11-01-2018                                         \n",
       "=====================================================================================\n",
       "                        coef    std err          z      P>|z|      [0.025      0.975]\n",
       "-------------------------------------------------------------------------------------\n",
       "const                 0.1290      0.063      2.050      0.040       0.006       0.252\n",
       "ar.L1.D.Adj_Close     0.1203      0.223      0.539      0.590      -0.317       0.558\n",
       "ma.L1.D.Adj_Close    -0.5049      0.201     -2.514      0.012      -0.898      -0.111\n",
       "                                    Roots                                    \n",
       "=============================================================================\n",
       "                  Real          Imaginary           Modulus         Frequency\n",
       "-----------------------------------------------------------------------------\n",
       "AR.1            8.3140           +0.0000j            8.3140            0.0000\n",
       "MA.1            1.9808           +0.0000j            1.9808            0.0000\n",
       "-----------------------------------------------------------------------------\n",
       "\"\"\""
      ]
     },
     "execution_count": 108,
     "metadata": {},
     "output_type": "execute_result"
    }
   ],
   "source": [
    "model_ar1_i1_ma1=ARIMA(df_train.Adj_Close, order = (1,1,1))\n",
    "results_ar1_i1_ma1 = model_ar1_i1_ma1.fit()\n",
    "results_ar1_i1_ma1.summary()"
   ]
  },
  {
   "cell_type": "code",
   "execution_count": 110,
   "id": "978f2f65-af75-4968-8df2-56cc044abdb4",
   "metadata": {},
   "outputs": [
    {
     "data": {
      "text/html": [
       "<table class=\"simpletable\">\n",
       "<caption>ARIMA Model Results</caption>\n",
       "<tr>\n",
       "  <th>Dep. Variable:</th>    <td>D.Adj_Close</td>   <th>  No. Observations:  </th>    <td>178</td>  \n",
       "</tr>\n",
       "<tr>\n",
       "  <th>Model:</th>          <td>ARIMA(1, 1, 3)</td>  <th>  Log Likelihood     </th> <td>-322.621</td>\n",
       "</tr>\n",
       "<tr>\n",
       "  <th>Method:</th>             <td>css-mle</td>     <th>  S.D. of innovations</th>   <td>1.481</td> \n",
       "</tr>\n",
       "<tr>\n",
       "  <th>Date:</th>          <td>Mon, 18 Jul 2022</td> <th>  AIC                </th>  <td>657.243</td>\n",
       "</tr>\n",
       "<tr>\n",
       "  <th>Time:</th>              <td>18:08:07</td>     <th>  BIC                </th>  <td>676.334</td>\n",
       "</tr>\n",
       "<tr>\n",
       "  <th>Sample:</th>           <td>02-01-2004</td>    <th>  HQIC               </th>  <td>664.985</td>\n",
       "</tr>\n",
       "<tr>\n",
       "  <th></th>                 <td>- 11-01-2018</td>   <th>                     </th>     <td> </td>   \n",
       "</tr>\n",
       "</table>\n",
       "<table class=\"simpletable\">\n",
       "<tr>\n",
       "          <td></td>             <th>coef</th>     <th>std err</th>      <th>z</th>      <th>P>|z|</th>  <th>[0.025</th>    <th>0.975]</th>  \n",
       "</tr>\n",
       "<tr>\n",
       "  <th>const</th>             <td>    0.1289</td> <td>    0.060</td> <td>    2.166</td> <td> 0.030</td> <td>    0.012</td> <td>    0.246</td>\n",
       "</tr>\n",
       "<tr>\n",
       "  <th>ar.L1.D.Adj_Close</th> <td>    0.4428</td> <td>    0.427</td> <td>    1.036</td> <td> 0.300</td> <td>   -0.395</td> <td>    1.280</td>\n",
       "</tr>\n",
       "<tr>\n",
       "  <th>ma.L1.D.Adj_Close</th> <td>   -0.8360</td> <td>    0.427</td> <td>   -1.959</td> <td> 0.050</td> <td>   -1.672</td> <td>    0.000</td>\n",
       "</tr>\n",
       "<tr>\n",
       "  <th>ma.L2.D.Adj_Close</th> <td>    0.1684</td> <td>    0.197</td> <td>    0.855</td> <td> 0.392</td> <td>   -0.218</td> <td>    0.554</td>\n",
       "</tr>\n",
       "<tr>\n",
       "  <th>ma.L3.D.Adj_Close</th> <td>   -0.0358</td> <td>    0.077</td> <td>   -0.464</td> <td> 0.643</td> <td>   -0.187</td> <td>    0.116</td>\n",
       "</tr>\n",
       "</table>\n",
       "<table class=\"simpletable\">\n",
       "<caption>Roots</caption>\n",
       "<tr>\n",
       "    <td></td>   <th>            Real</th>  <th>         Imaginary</th> <th>         Modulus</th>  <th>        Frequency</th>\n",
       "</tr>\n",
       "<tr>\n",
       "  <th>AR.1</th> <td>           2.2582</td> <td>          +0.0000j</td> <td>           2.2582</td> <td>           0.0000</td>\n",
       "</tr>\n",
       "<tr>\n",
       "  <th>MA.1</th> <td>           1.5070</td> <td>          -0.0000j</td> <td>           1.5070</td> <td>          -0.0000</td>\n",
       "</tr>\n",
       "<tr>\n",
       "  <th>MA.2</th> <td>           1.5957</td> <td>          -3.9958j</td> <td>           4.3027</td> <td>          -0.1895</td>\n",
       "</tr>\n",
       "<tr>\n",
       "  <th>MA.3</th> <td>           1.5957</td> <td>          +3.9958j</td> <td>           4.3027</td> <td>           0.1895</td>\n",
       "</tr>\n",
       "</table>"
      ],
      "text/plain": [
       "<class 'statsmodels.iolib.summary.Summary'>\n",
       "\"\"\"\n",
       "                             ARIMA Model Results                              \n",
       "==============================================================================\n",
       "Dep. Variable:            D.Adj_Close   No. Observations:                  178\n",
       "Model:                 ARIMA(1, 1, 3)   Log Likelihood                -322.621\n",
       "Method:                       css-mle   S.D. of innovations              1.481\n",
       "Date:                Mon, 18 Jul 2022   AIC                            657.243\n",
       "Time:                        18:08:07   BIC                            676.334\n",
       "Sample:                    02-01-2004   HQIC                           664.985\n",
       "                         - 11-01-2018                                         \n",
       "=====================================================================================\n",
       "                        coef    std err          z      P>|z|      [0.025      0.975]\n",
       "-------------------------------------------------------------------------------------\n",
       "const                 0.1289      0.060      2.166      0.030       0.012       0.246\n",
       "ar.L1.D.Adj_Close     0.4428      0.427      1.036      0.300      -0.395       1.280\n",
       "ma.L1.D.Adj_Close    -0.8360      0.427     -1.959      0.050      -1.672       0.000\n",
       "ma.L2.D.Adj_Close     0.1684      0.197      0.855      0.392      -0.218       0.554\n",
       "ma.L3.D.Adj_Close    -0.0358      0.077     -0.464      0.643      -0.187       0.116\n",
       "                                    Roots                                    \n",
       "=============================================================================\n",
       "                  Real          Imaginary           Modulus         Frequency\n",
       "-----------------------------------------------------------------------------\n",
       "AR.1            2.2582           +0.0000j            2.2582            0.0000\n",
       "MA.1            1.5070           -0.0000j            1.5070           -0.0000\n",
       "MA.2            1.5957           -3.9958j            4.3027           -0.1895\n",
       "MA.3            1.5957           +3.9958j            4.3027            0.1895\n",
       "-----------------------------------------------------------------------------\n",
       "\"\"\""
      ]
     },
     "execution_count": 110,
     "metadata": {},
     "output_type": "execute_result"
    }
   ],
   "source": [
    "model_ar2_i1_ma2=ARIMA(df_train.Adj_Close, order = (2,1,2))\n",
    "results_ar2_i1_ma2 = model_ar1_i1_ma3.fit(start_ar_lags=4)\n",
    "results_ar2_i1_ma2.summary()"
   ]
  },
  {
   "cell_type": "markdown",
   "id": "80c4d76c-2297-4526-b604-3e6b91ee3d90",
   "metadata": {},
   "source": [
    "### Forecasting"
   ]
  },
  {
   "cell_type": "code",
   "execution_count": 113,
   "id": "97059b28-b4c1-4711-b16d-59d66ee9d990",
   "metadata": {},
   "outputs": [],
   "source": [
    "start_date= \"2018-12-01\"\n",
    "end_date=\"2022-07-18\""
   ]
  },
  {
   "cell_type": "code",
   "execution_count": 114,
   "id": "57b4e8e8-ebfd-4151-826b-9d68a51c80ce",
   "metadata": {},
   "outputs": [],
   "source": [
    "df_pred = results_ret_ar1_ma1.predict(start = start_date, end=end_date)"
   ]
  },
  {
   "cell_type": "code",
   "execution_count": 115,
   "id": "09422292-cf30-4114-813a-1defa5be8471",
   "metadata": {},
   "outputs": [
    {
     "data": {
      "text/plain": [
       "<AxesSubplot:xlabel='Date'>"
      ]
     },
     "execution_count": 115,
     "metadata": {},
     "output_type": "execute_result"
    },
    {
     "data": {
      "image/png": "[encoded data removed]",
      "text/plain": [
       "<Figure size 1440x360 with 1 Axes>"
      ]
     },
     "metadata": {
      "needs_background": "light"
     },
     "output_type": "display_data"
    }
   ],
   "source": [
    "df_pred[start_date:end_date].plot(figsize = (20,5))\n",
    "df_test.returns.plot(figsize=(20,5))"
   ]
  },
  {
   "cell_type": "markdown",
   "id": "a07c983a-ff67-4494-b714-f9c1601d7878",
   "metadata": {},
   "source": [
    "### MA"
   ]
  },
  {
   "cell_type": "code",
   "execution_count": 116,
   "id": "1f73755e-609f-42ac-bd84-74e7c84858df",
   "metadata": {},
   "outputs": [
    {
     "data": {
      "text/plain": [
       "<AxesSubplot:xlabel='Date'>"
      ]
     },
     "execution_count": 116,
     "metadata": {},
     "output_type": "execute_result"
    },
    {
     "data": {
      "image/png": "[encoded data removed]",
      "text/plain": [
       "<Figure size 1440x360 with 1 Axes>"
      ]
     },
     "metadata": {
      "needs_background": "light"
     },
     "output_type": "display_data"
    }
   ],
   "source": [
    "model_ret_ma=ARIMA(df_train.returns[1:], order=(0,0,1))\n",
    "results_ret_ma = model_ret_ma.fit()\n",
    "\n",
    "df_pred_ma = results_ret_ma.predict(start =start_date, end = end_date)\n",
    "\n",
    "df_pred_ma[start_date:end_date].plot(figsize = (20,5))\n",
    "df_test.returns.plot(figsize=(20,5))"
   ]
  },
  {
   "cell_type": "markdown",
   "id": "862769dc-9b0d-47f2-8ec6-00c2f05c76f1",
   "metadata": {},
   "source": [
    "### ARMA"
   ]
  },
  {
   "cell_type": "code",
   "execution_count": 117,
   "id": "90764243-e0ea-4176-b15e-da557b60dc88",
   "metadata": {},
   "outputs": [
    {
     "data": {
      "text/plain": [
       "<AxesSubplot:xlabel='Date'>"
      ]
     },
     "execution_count": 117,
     "metadata": {},
     "output_type": "execute_result"
    },
    {
     "data": {
      "image/png": "[encoded data removed]",
      "text/plain": [
       "<Figure size 1440x360 with 1 Axes>"
      ]
     },
     "metadata": {
      "needs_background": "light"
     },
     "output_type": "display_data"
    }
   ],
   "source": [
    "model_ret_arma=ARIMA(df_train.returns[1:], order=(1,0,1))\n",
    "results_ret_arma = model_ret_arma.fit()\n",
    "\n",
    "df_pred_arma = results_ret_arma.predict(start =start_date, end = end_date)\n",
    "\n",
    "df_pred_arma[start_date:end_date].plot(figsize = (20,5))\n",
    "df_test.returns.plot(figsize=(20,5))"
   ]
  },
  {
   "cell_type": "code",
   "execution_count": 118,
   "id": "ac5668f3-9cfd-405b-a5b8-91829f11a539",
   "metadata": {},
   "outputs": [
    {
     "data": {
      "text/plain": [
       "2018-12-01    1.389793\n",
       "2019-01-01    1.250585\n",
       "2019-02-01    1.266791\n",
       "2019-03-01    1.264905\n",
       "2019-04-01    1.265124\n",
       "Freq: MS, dtype: float64"
      ]
     },
     "execution_count": 118,
     "metadata": {},
     "output_type": "execute_result"
    }
   ],
   "source": [
    "df_pred_arma.head()"
   ]
  },
  {
   "cell_type": "code",
   "execution_count": 119,
   "id": "ea6ac5c5-059e-49a6-958f-0b58db17261b",
   "metadata": {},
   "outputs": [
    {
     "data": {
      "text/plain": [
       "<AxesSubplot:xlabel='Date'>"
      ]
     },
     "execution_count": 119,
     "metadata": {},
     "output_type": "execute_result"
    },
    {
     "data": {
      "image/png": "[encoded data removed]",
      "text/plain": [
       "<Figure size 1440x360 with 1 Axes>"
      ]
     },
     "metadata": {
      "needs_background": "light"
     },
     "output_type": "display_data"
    }
   ],
   "source": [
    "model_ret_arima=ARIMA(df_train.returns[1:], order=(1,1,1))\n",
    "results_ret_arima = model_ret_arima.fit()\n",
    "\n",
    "df_pred_arima = results_ret_arima.predict(start =start_date, end = end_date)\n",
    "\n",
    "df_pred_arima[start_date:end_date].plot(figsize = (20,5))\n",
    "df_test.returns.plot(figsize=(20,5))"
   ]
  },
  {
   "cell_type": "code",
   "execution_count": 120,
   "id": "1c232807-21f9-4ce1-96da-c9f9c138eef6",
   "metadata": {},
   "outputs": [
    {
     "data": {
      "text/html": [
       "<table class=\"simpletable\">\n",
       "<caption>ARIMA Model Results</caption>\n",
       "<tr>\n",
       "  <th>Dep. Variable:</th>     <td>D.returns</td>    <th>  No. Observations:  </th>    <td>177</td>  \n",
       "</tr>\n",
       "<tr>\n",
       "  <th>Model:</th>          <td>ARIMA(1, 1, 1)</td>  <th>  Log Likelihood     </th> <td>-647.983</td>\n",
       "</tr>\n",
       "<tr>\n",
       "  <th>Method:</th>             <td>css-mle</td>     <th>  S.D. of innovations</th>   <td>9.268</td> \n",
       "</tr>\n",
       "<tr>\n",
       "  <th>Date:</th>          <td>Mon, 18 Jul 2022</td> <th>  AIC                </th> <td>1303.966</td>\n",
       "</tr>\n",
       "<tr>\n",
       "  <th>Time:</th>              <td>18:15:03</td>     <th>  BIC                </th> <td>1316.671</td>\n",
       "</tr>\n",
       "<tr>\n",
       "  <th>Sample:</th>           <td>03-01-2004</td>    <th>  HQIC               </th> <td>1309.119</td>\n",
       "</tr>\n",
       "<tr>\n",
       "  <th></th>                 <td>- 11-01-2018</td>   <th>                     </th>     <td> </td>   \n",
       "</tr>\n",
       "</table>\n",
       "<table class=\"simpletable\">\n",
       "<tr>\n",
       "         <td></td>            <th>coef</th>     <th>std err</th>      <th>z</th>      <th>P>|z|</th>  <th>[0.025</th>    <th>0.975]</th>  \n",
       "</tr>\n",
       "<tr>\n",
       "  <th>const</th>           <td>    0.0132</td> <td>    0.012</td> <td>    1.111</td> <td> 0.266</td> <td>   -0.010</td> <td>    0.036</td>\n",
       "</tr>\n",
       "<tr>\n",
       "  <th>ar.L1.D.returns</th> <td>   -0.1418</td> <td>    0.074</td> <td>   -1.908</td> <td> 0.056</td> <td>   -0.287</td> <td>    0.004</td>\n",
       "</tr>\n",
       "<tr>\n",
       "  <th>ma.L1.D.returns</th> <td>   -1.0000</td> <td>    0.019</td> <td>  -53.991</td> <td> 0.000</td> <td>   -1.036</td> <td>   -0.964</td>\n",
       "</tr>\n",
       "</table>\n",
       "<table class=\"simpletable\">\n",
       "<caption>Roots</caption>\n",
       "<tr>\n",
       "    <td></td>   <th>            Real</th>  <th>         Imaginary</th> <th>         Modulus</th>  <th>        Frequency</th>\n",
       "</tr>\n",
       "<tr>\n",
       "  <th>AR.1</th> <td>          -7.0529</td> <td>          +0.0000j</td> <td>           7.0529</td> <td>           0.5000</td>\n",
       "</tr>\n",
       "<tr>\n",
       "  <th>MA.1</th> <td>           1.0000</td> <td>          +0.0000j</td> <td>           1.0000</td> <td>           0.0000</td>\n",
       "</tr>\n",
       "</table>"
      ],
      "text/plain": [
       "<class 'statsmodels.iolib.summary.Summary'>\n",
       "\"\"\"\n",
       "                             ARIMA Model Results                              \n",
       "==============================================================================\n",
       "Dep. Variable:              D.returns   No. Observations:                  177\n",
       "Model:                 ARIMA(1, 1, 1)   Log Likelihood                -647.983\n",
       "Method:                       css-mle   S.D. of innovations              9.268\n",
       "Date:                Mon, 18 Jul 2022   AIC                           1303.966\n",
       "Time:                        18:15:03   BIC                           1316.671\n",
       "Sample:                    03-01-2004   HQIC                          1309.119\n",
       "                         - 11-01-2018                                         \n",
       "===================================================================================\n",
       "                      coef    std err          z      P>|z|      [0.025      0.975]\n",
       "-----------------------------------------------------------------------------------\n",
       "const               0.0132      0.012      1.111      0.266      -0.010       0.036\n",
       "ar.L1.D.returns    -0.1418      0.074     -1.908      0.056      -0.287       0.004\n",
       "ma.L1.D.returns    -1.0000      0.019    -53.991      0.000      -1.036      -0.964\n",
       "                                    Roots                                    \n",
       "=============================================================================\n",
       "                  Real          Imaginary           Modulus         Frequency\n",
       "-----------------------------------------------------------------------------\n",
       "AR.1           -7.0529           +0.0000j            7.0529            0.5000\n",
       "MA.1            1.0000           +0.0000j            1.0000            0.0000\n",
       "-----------------------------------------------------------------------------\n",
       "\"\"\""
      ]
     },
     "execution_count": 120,
     "metadata": {},
     "output_type": "execute_result"
    }
   ],
   "source": [
    "results_ret_arima.summary()"
   ]
  },
  {
   "cell_type": "code",
   "execution_count": null,
   "id": "ab093462-8bb0-4b87-9c0e-74c996b4a607",
   "metadata": {},
   "outputs": [],
   "source": []
  }
 ],
 "metadata": {
  "kernelspec": {
   "display_name": "Python 3 (ipykernel)",
   "language": "python",
   "name": "python3"
  },
  "language_info": {
   "codemirror_mode": {
    "name": "ipython",
    "version": 3
   },
   "file_extension": ".py",
   "mimetype": "text/x-python",
   "name": "python",
   "nbconvert_exporter": "python",
   "pygments_lexer": "ipython3",
   "version": "3.9.7"
  }
 },
 "nbformat": 4,
 "nbformat_minor": 5
}
